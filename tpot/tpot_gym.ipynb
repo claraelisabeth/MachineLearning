{
 "cells": [
  {
   "cell_type": "markdown",
   "metadata": {},
   "source": [
    "# TPOT"
   ]
  },
  {
   "cell_type": "code",
   "execution_count": 9,
   "metadata": {},
   "outputs": [],
   "source": [
    "import numpy as np\n",
    "import pandas as pd\n",
    "from sklearn.model_selection import train_test_split\n",
    "from sklearn.naive_bayes import GaussianNB, MultinomialNB\n",
    "from sklearn.pipeline import make_pipeline, make_union\n",
    "from sklearn.preprocessing import Normalizer\n",
    "from tpot.builtins import StackingEstimator\n",
    "from sklearn.metrics import confusion_matrix,classification_report\n",
    "from sklearn.metrics import accuracy_score"
   ]
  },
  {
   "cell_type": "markdown",
   "metadata": {},
   "source": [
    "## Workout Types\n",
    "\n",
    "### df_gym_IQR\n",
    "\n",
    "Best pipeline: MultinomialNB(Normalizer(GaussianNB(input_matrix), norm=l2), alpha=1.0, fit_prior=True)"
   ]
  },
  {
   "cell_type": "code",
   "execution_count": 7,
   "metadata": {},
   "outputs": [
    {
     "name": "stdout",
     "output_type": "stream",
     "text": [
      "<class 'pandas.core.frame.DataFrame'>\n",
      "RangeIndex: 973 entries, 0 to 972\n",
      "Data columns (total 15 columns):\n",
      " #   Column                         Non-Null Count  Dtype  \n",
      "---  ------                         --------------  -----  \n",
      " 0   Age                            973 non-null    int64  \n",
      " 1   Gender                         973 non-null    int64  \n",
      " 2   Weight (kg)                    973 non-null    float64\n",
      " 3   Height (m)                     973 non-null    float64\n",
      " 4   Max_BPM                        973 non-null    int64  \n",
      " 5   Avg_BPM                        973 non-null    int64  \n",
      " 6   Resting_BPM                    973 non-null    int64  \n",
      " 7   Session_Duration (hours)       973 non-null    float64\n",
      " 8   Calories_Burned                973 non-null    float64\n",
      " 9   Workout_Type                   973 non-null    int64  \n",
      " 10  Fat_Percentage                 973 non-null    float64\n",
      " 11  Water_Intake (liters)          973 non-null    float64\n",
      " 12  Workout_Frequency (days/week)  973 non-null    int64  \n",
      " 13  Experience_Level               973 non-null    int64  \n",
      " 14  BMI                            973 non-null    float64\n",
      "dtypes: float64(7), int64(8)\n",
      "memory usage: 114.2 KB\n"
     ]
    },
    {
     "name": "stderr",
     "output_type": "stream",
     "text": [
      "/var/folders/4j/v1g8gthx209g90f63vh1krc80000gn/T/ipykernel_42590/3802289015.py:3: FutureWarning: Downcasting behavior in `replace` is deprecated and will be removed in a future version. To retain the old behavior, explicitly call `result.infer_objects(copy=False)`. To opt-in to the future behavior, set `pd.set_option('future.no_silent_downcasting', True)`\n",
      "  tpot_data = tpot_data.replace({\n"
     ]
    },
    {
     "data": {
      "text/plain": [
       "None"
      ]
     },
     "metadata": {},
     "output_type": "display_data"
    },
    {
     "name": "stderr",
     "output_type": "stream",
     "text": [
      "/Users/clarapichler/Documents/Projects/myenv/lib/python3.12/site-packages/sklearn/base.py:493: UserWarning: X does not have valid feature names, but GaussianNB was fitted with feature names\n",
      "  warnings.warn(\n",
      "/Users/clarapichler/Documents/Projects/myenv/lib/python3.12/site-packages/sklearn/base.py:493: UserWarning: X does not have valid feature names, but GaussianNB was fitted with feature names\n",
      "  warnings.warn(\n",
      "/Users/clarapichler/Documents/Projects/myenv/lib/python3.12/site-packages/sklearn/base.py:493: UserWarning: X does not have valid feature names, but GaussianNB was fitted with feature names\n",
      "  warnings.warn(\n",
      "/Users/clarapichler/Documents/Projects/myenv/lib/python3.12/site-packages/sklearn/base.py:493: UserWarning: X does not have valid feature names, but GaussianNB was fitted with feature names\n",
      "  warnings.warn(\n"
     ]
    }
   ],
   "source": [
    "# NOTE: Make sure that the outcome column is labeled 'target' in the data file\n",
    "tpot_data = pd.read_csv('../data/gym_members_exercise_tracking.csv') # pd.read_csv('PATH/TO/DATA/FILE', sep='COLUMN_SEPARATOR', dtype=np.float64)\n",
    "tpot_data = tpot_data.replace({\n",
    "    \"Yoga\" : 0,\n",
    "    \"HIIT\" : 1,\n",
    "    \"Cardio\" : 2,\n",
    "    \"Strength\" : 3,\n",
    "    \"Female\" : 0,\n",
    "    \"Male\": 0\n",
    "    })\n",
    "\n",
    "display(tpot_data.info())\n",
    "\n",
    "features = tpot_data.drop('Workout_Type', axis=1)\n",
    "training_features, testing_features, training_target, testing_target = \\\n",
    "            train_test_split(features, tpot_data['Workout_Type'], random_state=None)\n",
    "\n",
    "# Average CV score on the training set was: 0.28896197327852\n",
    "exported_pipeline = make_pipeline(\n",
    "    StackingEstimator(estimator=GaussianNB()),\n",
    "    Normalizer(norm=\"l2\"),\n",
    "    MultinomialNB(alpha=1.0, fit_prior=True)\n",
    ")\n",
    "\n",
    "exported_pipeline.fit(training_features, training_target)\n",
    "results = exported_pipeline.predict(testing_features)"
   ]
  },
  {
   "cell_type": "code",
   "execution_count": 10,
   "metadata": {},
   "outputs": [
    {
     "name": "stdout",
     "output_type": "stream",
     "text": [
      "Model Performance\n",
      "Accuracy = 29.51%.\n",
      "Classification Report:\n",
      "              precision    recall  f1-score   support\n",
      "\n",
      "           0       1.00      0.00      0.00        58\n",
      "           1       1.00      0.00      0.00        54\n",
      "           2       0.36      0.12      0.18        65\n",
      "           3       0.29      0.96      0.44        67\n",
      "\n",
      "    accuracy                           0.30       244\n",
      "   macro avg       0.66      0.27      0.16       244\n",
      "weighted avg       0.64      0.30      0.17       244\n",
      "\n",
      "Confusion Matrix:\n",
      "[[ 0  0  8 50]\n",
      " [ 0  0  3 51]\n",
      " [ 0  0  8 57]\n",
      " [ 0  0  3 64]]\n"
     ]
    }
   ],
   "source": [
    "accuracy = accuracy_score(testing_target, results)\n",
    "print('Model Performance')\n",
    "print('Accuracy = {:0.2f}%.'.format(accuracy * 100))\n",
    "print('Classification Report:')\n",
    "print(classification_report(testing_target, results, zero_division=1))\n",
    "print('Confusion Matrix:')\n",
    "print(confusion_matrix(testing_target, results))"
   ]
  },
  {
   "cell_type": "markdown",
   "metadata": {},
   "source": [
    "## Calories Burned\n",
    "\n",
    "### df_cal_IQR"
   ]
  }
 ],
 "metadata": {
  "kernelspec": {
   "display_name": "Python myenv",
   "language": "python",
   "name": "mein-venv-name"
  },
  "language_info": {
   "codemirror_mode": {
    "name": "ipython",
    "version": 3
   },
   "file_extension": ".py",
   "mimetype": "text/x-python",
   "name": "python",
   "nbconvert_exporter": "python",
   "pygments_lexer": "ipython3",
   "version": "3.12.5"
  }
 },
 "nbformat": 4,
 "nbformat_minor": 2
}
