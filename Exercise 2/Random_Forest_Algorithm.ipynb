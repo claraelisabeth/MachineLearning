{
 "cells": [
  {
   "cell_type": "markdown",
   "metadata": {},
   "source": [
    "# Exercise 2 Implementation of a Random Forest Algorithm"
   ]
  },
  {
   "cell_type": "markdown",
   "metadata": {},
   "source": [
    "Algorithm for Random Forest Work:\n",
    "\n",
    "Step 1: Select random K data points from the training set. (Geek)\n",
    "\n",
    "Step 1: Create Multiple Data Sets. (Lecture)\n",
    "\n",
    "Step 2: Build the decision trees associated with the selected data points(Subsets). (Geek)\n",
    "\n",
    "Step 3: Choose the number N for decision trees that you want to build. (Geek)\n",
    "\n",
    "Step 4: Repeat Step 1 and 2. (Geek)\n",
    "\n",
    "Step 2: Build Multiple Classifiers. (Lecture)\n",
    "\n",
    "Step 3: Combine Classifiers. (Lecture)\n",
    "\n",
    "Step 5: For new data points, find the predictions of each decision tree, and assign the new data points to the category that wins the majority votes. (Geek)"
   ]
  },
  {
   "cell_type": "code",
   "execution_count": null,
   "metadata": {
    "vscode": {
     "languageId": "plaintext"
    }
   },
   "outputs": [],
   "source": []
  },
  {
   "cell_type": "markdown",
   "metadata": {},
   "source": []
  }
 ],
 "metadata": {
  "language_info": {
   "name": "python"
  }
 },
 "nbformat": 4,
 "nbformat_minor": 2
}
