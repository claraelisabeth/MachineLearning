{
 "cells": [
  {
   "cell_type": "markdown",
   "metadata": {},
   "source": [
    "# TPOT\n",
    "\n",
    "Group 18 Members:\n",
    "\n",
    "- Clara Pichler, 11917694\n",
    "- Hannah Knapp, 11901857 \n",
    "- Sibel Toprakkiran, 09426341\n",
    "\n",
    "### Overview\n",
    "\n",
    "1. Data Sets\n",
    "\n",
    "2. Evaluation"
   ]
  },
  {
   "cell_type": "code",
   "execution_count": 31,
   "metadata": {},
   "outputs": [],
   "source": [
    "from tpot import TPOTRegressor, TPOTClassifier\n",
    "\n",
    "from sklearn import datasets\n",
    "import numpy as np\n",
    "import pandas as pd\n",
    "from sklearn.model_selection import train_test_split\n",
    "from sklearn.metrics import accuracy_score, mean_squared_error, classification_report, mean_absolute_error, r2_score\n",
    "from sklearn.neighbors import KNeighborsClassifier, KNeighborsRegressor\n",
    "from sklearn.neural_network import MLPClassifier\n",
    "from sklearn.ensemble import RandomForestClassifier, AdaBoostClassifier, RandomForestRegressor, GradientBoostingRegressor\n",
    "from sklearn.svm import SVC\n",
    "import time\n",
    "from sklearn.preprocessing import LabelEncoder\n",
    "from sklearn.dummy import DummyClassifier, DummyRegressor\n",
    "from sklearn.experimental import enable_iterative_imputer \n",
    "from sklearn.impute import IterativeImputer\n",
    "from sklearn.linear_model import LinearRegression, Lasso"
   ]
  },
  {
   "cell_type": "markdown",
   "metadata": {},
   "source": [
    "## Data Sets"
   ]
  },
  {
   "cell_type": "code",
   "execution_count": 32,
   "metadata": {},
   "outputs": [
    {
     "name": "stderr",
     "output_type": "stream",
     "text": [
      "/Users/clarapichler/Documents/Projects/myenv/lib/python3.12/site-packages/sklearn/impute/_iterative.py:825: ConvergenceWarning: [IterativeImputer] Early stopping criterion not reached.\n",
      "  warnings.warn(\n"
     ]
    }
   ],
   "source": [
    "iris = datasets.load_iris()\n",
    "iris_data = pd.DataFrame(data= np.c_[iris['data'], iris['target']], columns= iris['feature_names'] + ['target'])\n",
    "label_encoder = LabelEncoder()\n",
    "iris_data['target'] = label_encoder.fit_transform(iris_data['target'])\n",
    "\n",
    "df_voting = pd.read_csv('data/CongressionalVotingID.shuf.lrn.csv')\n",
    "\n",
    "df_airfoil = pd.read_csv(\"data/airfoil_noise_data.csv\")\n",
    "\n",
    "url='./data/abalone.csv'\n",
    "column_names = [\"Sex\", \"Length\", \"Diameter\", \"Height\", \"Whole_weight\", \"Shucked_weight\", \"Viscera_weight\", \"Shell_weight\", \"Rings\"]\n",
    "df_abalone = pd.read_csv(url, header=0, names=column_names)\n",
    "df_abalone = df_abalone[df_abalone.Height != 0]\n",
    "\n",
    "pd.set_option('future.no_silent_downcasting', True)\n",
    "df_voting = df_voting.replace({\"democrat\": 0,\"republican\": 1,\"n\": 0,\"y\": 1,\"unknown\": np.nan})\n",
    "df_voting = df_voting.drop(columns=['ID'])\n",
    "\n",
    "imp = IterativeImputer(max_iter=10, random_state=0)\n",
    "df_voting = pd.DataFrame(imp.fit_transform(df_voting), columns=df_voting.columns)\n",
    "\n",
    "df_abalone = df_abalone[df_abalone.Height != 0]\n",
    "df_abalone = pd.get_dummies(df_abalone, columns=['Sex'], drop_first=False)"
   ]
  },
  {
   "cell_type": "code",
   "execution_count": 33,
   "metadata": {},
   "outputs": [],
   "source": [
    "X_iris = iris_data.drop(['target'], axis=1)\n",
    "y_iris = iris_data['target']\n",
    "\n",
    "X_train_iris, X_test_iris, y_train_iris, y_test_iris = train_test_split(X_iris, y_iris, test_size=0.7, random_state=42)"
   ]
  },
  {
   "cell_type": "code",
   "execution_count": 34,
   "metadata": {},
   "outputs": [],
   "source": [
    "X_voting = df_voting.drop(['class'], axis=1)\n",
    "y_voting = df_voting['class']\n",
    "\n",
    "X_train_voting, X_test_voting, y_train_voting, y_test_voting = train_test_split(X_voting, y_voting, test_size=0.7, random_state=42)"
   ]
  },
  {
   "cell_type": "code",
   "execution_count": 35,
   "metadata": {},
   "outputs": [],
   "source": [
    "X_airfoil = df_airfoil.drop(['y'], axis=1)\n",
    "y_airfoil = df_airfoil['y']\n",
    "\n",
    "X_train_airfoil, X_test_airfoil, y_train_airfoil, y_test_airfoil = train_test_split(X_airfoil, y_airfoil, test_size=0.7, random_state=42)"
   ]
  },
  {
   "cell_type": "code",
   "execution_count": 36,
   "metadata": {},
   "outputs": [],
   "source": [
    "X_abalone_reg = df_abalone.drop(['Rings'], axis=1)\n",
    "y_abalone_reg = df_abalone['Rings']\n",
    "\n",
    "X_train_abalone_reg, X_test_abalone_reg, y_train_abalone_reg, y_test_abalone_reg = train_test_split(X_abalone_reg, y_abalone_reg, test_size=0.6, random_state=42)"
   ]
  },
  {
   "cell_type": "markdown",
   "metadata": {},
   "source": [
    "## Evaluation"
   ]
  },
  {
   "cell_type": "code",
   "execution_count": 41,
   "metadata": {},
   "outputs": [],
   "source": [
    "classifier = TPOTClassifier(verbosity=2, population_size=50, generations=50, random_state=42)"
   ]
  },
  {
   "cell_type": "code",
   "execution_count": 42,
   "metadata": {},
   "outputs": [
    {
     "name": "stdout",
     "output_type": "stream",
     "text": [
      "Warning: xgboost.XGBClassifier is not available and will not be used by TPOT.\n"
     ]
    },
    {
     "data": {
      "application/vnd.jupyter.widget-view+json": {
       "model_id": "b188ef2dd291434a86cb0366fee838be",
       "version_major": 2,
       "version_minor": 0
      },
      "text/plain": [
       "Optimization Progress:   0%|          | 0/2550 [00:00<?, ?pipeline/s]"
      ]
     },
     "metadata": {},
     "output_type": "display_data"
    },
    {
     "name": "stdout",
     "output_type": "stream",
     "text": [
      "\n",
      "Generation 1 - Current best internal CV score: 1.0\n",
      "\n",
      "Generation 2 - Current best internal CV score: 1.0\n",
      "\n",
      "Generation 3 - Current best internal CV score: 1.0\n",
      "\n",
      "Generation 4 - Current best internal CV score: 1.0\n",
      "\n",
      "Generation 5 - Current best internal CV score: 1.0\n",
      "\n",
      "Generation 6 - Current best internal CV score: 1.0\n",
      "\n",
      "Generation 7 - Current best internal CV score: 1.0\n",
      "\n",
      "Generation 8 - Current best internal CV score: 1.0\n",
      "\n",
      "Generation 9 - Current best internal CV score: 1.0\n",
      "\n",
      "Generation 10 - Current best internal CV score: 1.0\n",
      "\n",
      "Generation 11 - Current best internal CV score: 1.0\n",
      "\n",
      "Generation 12 - Current best internal CV score: 1.0\n",
      "\n",
      "Generation 13 - Current best internal CV score: 1.0\n",
      "\n",
      "Generation 14 - Current best internal CV score: 1.0\n",
      "\n",
      "Generation 15 - Current best internal CV score: 1.0\n",
      "\n",
      "Generation 16 - Current best internal CV score: 1.0\n",
      "\n",
      "Generation 17 - Current best internal CV score: 1.0\n",
      "\n",
      "Generation 18 - Current best internal CV score: 1.0\n",
      "\n",
      "Generation 19 - Current best internal CV score: 1.0\n",
      "\n",
      "Generation 20 - Current best internal CV score: 1.0\n",
      "\n",
      "Generation 21 - Current best internal CV score: 1.0\n",
      "\n",
      "Generation 22 - Current best internal CV score: 1.0\n",
      "\n",
      "Generation 23 - Current best internal CV score: 1.0\n",
      "\n",
      "Generation 24 - Current best internal CV score: 1.0\n",
      "\n",
      "Generation 25 - Current best internal CV score: 1.0\n",
      "\n",
      "Generation 26 - Current best internal CV score: 1.0\n",
      "\n",
      "Generation 27 - Current best internal CV score: 1.0\n",
      "\n",
      "Generation 28 - Current best internal CV score: 1.0\n",
      "\n",
      "Generation 29 - Current best internal CV score: 1.0\n",
      "\n",
      "Generation 30 - Current best internal CV score: 1.0\n",
      "\n",
      "Generation 31 - Current best internal CV score: 1.0\n",
      "\n",
      "Generation 32 - Current best internal CV score: 1.0\n",
      "\n",
      "Generation 33 - Current best internal CV score: 1.0\n",
      "\n",
      "Generation 34 - Current best internal CV score: 1.0\n",
      "\n",
      "Generation 35 - Current best internal CV score: 1.0\n",
      "\n",
      "Generation 36 - Current best internal CV score: 1.0\n",
      "\n",
      "Generation 37 - Current best internal CV score: 1.0\n",
      "\n",
      "Generation 38 - Current best internal CV score: 1.0\n",
      "\n",
      "Generation 39 - Current best internal CV score: 1.0\n",
      "\n",
      "Generation 40 - Current best internal CV score: 1.0\n",
      "\n",
      "Generation 41 - Current best internal CV score: 1.0\n",
      "\n",
      "Generation 42 - Current best internal CV score: 1.0\n",
      "\n",
      "Generation 43 - Current best internal CV score: 1.0\n",
      "\n",
      "Generation 44 - Current best internal CV score: 1.0\n",
      "\n",
      "Generation 45 - Current best internal CV score: 1.0\n",
      "\n",
      "Generation 46 - Current best internal CV score: 1.0\n",
      "\n",
      "Generation 47 - Current best internal CV score: 1.0\n",
      "\n",
      "Generation 48 - Current best internal CV score: 1.0\n",
      "\n",
      "Generation 49 - Current best internal CV score: 1.0\n",
      "\n",
      "Generation 50 - Current best internal CV score: 1.0\n",
      "\n",
      "Best pipeline: LogisticRegression(input_matrix, C=15.0, dual=False, penalty=l2)\n",
      "0.9714285714285714\n"
     ]
    }
   ],
   "source": [
    "classifier.fit(X_train_iris, y_train_iris)\n",
    "print(classifier.score(X_test_iris, y_test_iris))"
   ]
  },
  {
   "cell_type": "code",
   "execution_count": 43,
   "metadata": {},
   "outputs": [
    {
     "name": "stdout",
     "output_type": "stream",
     "text": [
      "Warning: xgboost.XGBClassifier is not available and will not be used by TPOT.\n"
     ]
    },
    {
     "data": {
      "application/vnd.jupyter.widget-view+json": {
       "model_id": "536dd9dec1d74848860759a9b9129c3e",
       "version_major": 2,
       "version_minor": 0
      },
      "text/plain": [
       "Optimization Progress:   0%|          | 0/2550 [00:00<?, ?pipeline/s]"
      ]
     },
     "metadata": {},
     "output_type": "display_data"
    },
    {
     "name": "stdout",
     "output_type": "stream",
     "text": [
      "\n",
      "Generation 1 - Current best internal CV score: 0.9692307692307693\n",
      "\n",
      "Generation 2 - Current best internal CV score: 0.9692307692307693\n",
      "\n",
      "Generation 3 - Current best internal CV score: 0.9692307692307693\n",
      "\n",
      "Generation 4 - Current best internal CV score: 0.9692307692307693\n",
      "\n",
      "Generation 5 - Current best internal CV score: 0.9692307692307693\n",
      "\n",
      "Generation 6 - Current best internal CV score: 0.9692307692307693\n",
      "\n",
      "Generation 7 - Current best internal CV score: 0.9692307692307693\n",
      "\n",
      "Generation 8 - Current best internal CV score: 0.9692307692307693\n",
      "\n",
      "Generation 9 - Current best internal CV score: 0.9692307692307693\n",
      "\n",
      "Generation 10 - Current best internal CV score: 0.9692307692307693\n",
      "\n",
      "Generation 11 - Current best internal CV score: 0.9692307692307693\n",
      "\n",
      "Generation 12 - Current best internal CV score: 0.9846153846153847\n",
      "\n",
      "Generation 13 - Current best internal CV score: 0.9846153846153847\n",
      "\n",
      "Generation 14 - Current best internal CV score: 0.9846153846153847\n",
      "\n",
      "Generation 15 - Current best internal CV score: 0.9846153846153847\n",
      "\n",
      "Generation 16 - Current best internal CV score: 0.9846153846153847\n",
      "\n",
      "Generation 17 - Current best internal CV score: 0.9846153846153847\n",
      "\n",
      "Generation 18 - Current best internal CV score: 0.9846153846153847\n",
      "\n",
      "Generation 19 - Current best internal CV score: 0.9846153846153847\n",
      "\n",
      "Generation 20 - Current best internal CV score: 0.9846153846153847\n",
      "\n",
      "Generation 21 - Current best internal CV score: 0.9846153846153847\n",
      "\n",
      "Generation 22 - Current best internal CV score: 0.9846153846153847\n",
      "\n",
      "Generation 23 - Current best internal CV score: 0.9846153846153847\n",
      "\n",
      "Generation 24 - Current best internal CV score: 0.9846153846153847\n",
      "\n",
      "Generation 25 - Current best internal CV score: 0.9846153846153847\n",
      "\n",
      "Generation 26 - Current best internal CV score: 0.9846153846153847\n",
      "\n",
      "Generation 27 - Current best internal CV score: 0.9846153846153847\n",
      "\n",
      "Generation 28 - Current best internal CV score: 0.9846153846153847\n",
      "\n",
      "Generation 29 - Current best internal CV score: 0.9846153846153847\n",
      "\n",
      "Generation 30 - Current best internal CV score: 0.9846153846153847\n",
      "\n",
      "Generation 31 - Current best internal CV score: 0.9846153846153847\n",
      "\n",
      "Generation 32 - Current best internal CV score: 0.9846153846153847\n",
      "\n",
      "Generation 33 - Current best internal CV score: 0.9846153846153847\n",
      "\n",
      "Generation 34 - Current best internal CV score: 0.9846153846153847\n",
      "\n",
      "Generation 35 - Current best internal CV score: 0.9846153846153847\n",
      "\n",
      "Generation 36 - Current best internal CV score: 0.9846153846153847\n",
      "\n",
      "Generation 37 - Current best internal CV score: 0.9846153846153847\n",
      "\n",
      "Generation 38 - Current best internal CV score: 0.9846153846153847\n",
      "\n",
      "Generation 39 - Current best internal CV score: 0.9846153846153847\n",
      "\n",
      "Generation 40 - Current best internal CV score: 0.9846153846153847\n",
      "\n",
      "Generation 41 - Current best internal CV score: 0.9846153846153847\n",
      "\n",
      "Generation 42 - Current best internal CV score: 0.9846153846153847\n",
      "\n",
      "Generation 43 - Current best internal CV score: 0.9846153846153847\n",
      "\n",
      "Generation 44 - Current best internal CV score: 0.9846153846153847\n",
      "\n",
      "Generation 45 - Current best internal CV score: 0.9846153846153847\n",
      "\n",
      "Generation 46 - Current best internal CV score: 0.9846153846153847\n",
      "\n",
      "Generation 47 - Current best internal CV score: 0.9846153846153847\n",
      "\n",
      "Generation 48 - Current best internal CV score: 0.9846153846153847\n",
      "\n",
      "Generation 49 - Current best internal CV score: 0.9846153846153847\n",
      "\n",
      "Generation 50 - Current best internal CV score: 0.9846153846153847\n",
      "\n",
      "Best pipeline: GradientBoostingClassifier(input_matrix, learning_rate=0.1, max_depth=10, max_features=0.45, min_samples_leaf=6, min_samples_split=14, n_estimators=100, subsample=0.8)\n",
      "0.954248366013072\n"
     ]
    }
   ],
   "source": [
    "classifier.fit(X_train_voting, y_train_voting)\n",
    "print(classifier.score(X_test_voting, y_test_voting))"
   ]
  },
  {
   "cell_type": "code",
   "execution_count": 44,
   "metadata": {},
   "outputs": [],
   "source": [
    "reg = TPOTRegressor(verbosity=2, population_size=50, generations=50, random_state=42)"
   ]
  },
  {
   "cell_type": "code",
   "execution_count": 45,
   "metadata": {},
   "outputs": [
    {
     "name": "stdout",
     "output_type": "stream",
     "text": [
      "Warning: xgboost.XGBRegressor is not available and will not be used by TPOT.\n"
     ]
    },
    {
     "data": {
      "application/vnd.jupyter.widget-view+json": {
       "model_id": "41e77e883e974375af568910ecff72bd",
       "version_major": 2,
       "version_minor": 0
      },
      "text/plain": [
       "Optimization Progress:   0%|          | 0/2550 [00:00<?, ?pipeline/s]"
      ]
     },
     "metadata": {},
     "output_type": "display_data"
    },
    {
     "name": "stdout",
     "output_type": "stream",
     "text": [
      "\n",
      "Generation 1 - Current best internal CV score: -9.652584331750697\n",
      "\n",
      "Generation 2 - Current best internal CV score: -9.652584331750697\n",
      "\n",
      "Generation 3 - Current best internal CV score: -9.652584331750697\n",
      "\n",
      "Generation 4 - Current best internal CV score: -8.216878030809218\n",
      "\n",
      "Generation 5 - Current best internal CV score: -8.216878030809218\n",
      "\n",
      "Generation 6 - Current best internal CV score: -7.56809293908942\n",
      "\n",
      "Generation 7 - Current best internal CV score: -7.187945166659179\n",
      "\n",
      "Generation 8 - Current best internal CV score: -7.187945166659179\n",
      "\n",
      "Generation 9 - Current best internal CV score: -7.187945166659179\n",
      "\n",
      "Generation 10 - Current best internal CV score: -7.167539276690086\n",
      "\n",
      "Generation 11 - Current best internal CV score: -7.167539276690086\n",
      "\n",
      "Generation 12 - Current best internal CV score: -6.780305887260747\n",
      "\n",
      "Generation 13 - Current best internal CV score: -6.780305887260747\n",
      "\n",
      "Generation 14 - Current best internal CV score: -6.728588159256153\n",
      "\n",
      "Generation 15 - Current best internal CV score: -6.728588159256153\n",
      "\n",
      "Generation 16 - Current best internal CV score: -6.728588159256153\n",
      "\n",
      "Generation 17 - Current best internal CV score: -6.714712511464964\n",
      "\n",
      "Generation 18 - Current best internal CV score: -6.714712511464964\n",
      "\n",
      "Generation 19 - Current best internal CV score: -6.714712511464964\n",
      "\n",
      "Generation 20 - Current best internal CV score: -6.700452367586071\n",
      "\n",
      "Generation 21 - Current best internal CV score: -6.669482866934553\n",
      "\n",
      "Generation 22 - Current best internal CV score: -6.307237251017947\n",
      "\n",
      "Generation 23 - Current best internal CV score: -6.307237251017947\n",
      "\n",
      "Generation 24 - Current best internal CV score: -6.307237251017947\n",
      "\n",
      "Generation 25 - Current best internal CV score: -6.2158894117193615\n",
      "\n",
      "Generation 26 - Current best internal CV score: -6.2158894117193615\n",
      "\n",
      "Generation 27 - Current best internal CV score: -6.2158894117193615\n",
      "\n",
      "Generation 28 - Current best internal CV score: -6.2158894117193615\n",
      "\n",
      "Generation 29 - Current best internal CV score: -6.2158894117193615\n",
      "\n",
      "Generation 30 - Current best internal CV score: -6.2158894117193615\n",
      "\n",
      "Generation 31 - Current best internal CV score: -6.215820715042283\n",
      "\n",
      "Generation 32 - Current best internal CV score: -6.215820715042283\n",
      "\n",
      "Generation 33 - Current best internal CV score: -6.215820715042283\n",
      "\n",
      "Generation 34 - Current best internal CV score: -6.215820715042283\n",
      "\n",
      "Generation 35 - Current best internal CV score: -6.215820715042283\n",
      "\n",
      "Generation 36 - Current best internal CV score: -6.215820715042283\n",
      "\n",
      "Generation 37 - Current best internal CV score: -6.215820715042283\n",
      "\n",
      "Generation 38 - Current best internal CV score: -6.215820715042283\n",
      "\n",
      "Generation 39 - Current best internal CV score: -6.215820715042283\n",
      "\n",
      "Generation 40 - Current best internal CV score: -6.212804355317156\n",
      "\n",
      "Generation 41 - Current best internal CV score: -6.128152735213158\n",
      "\n",
      "Generation 42 - Current best internal CV score: -6.128152735213158\n",
      "\n",
      "Generation 43 - Current best internal CV score: -6.128152735213158\n",
      "\n",
      "Generation 44 - Current best internal CV score: -6.128152735213158\n",
      "\n",
      "Generation 45 - Current best internal CV score: -6.128152735213158\n",
      "\n",
      "Generation 46 - Current best internal CV score: -6.128152735213158\n",
      "\n",
      "Generation 47 - Current best internal CV score: -6.128152735213158\n",
      "\n",
      "Generation 48 - Current best internal CV score: -5.407184626170227\n",
      "\n",
      "Generation 49 - Current best internal CV score: -5.407184626170227\n",
      "\n",
      "Generation 50 - Current best internal CV score: -5.407184626170227\n",
      "\n",
      "Best pipeline: GradientBoostingRegressor(PolynomialFeatures(input_matrix, degree=2, include_bias=False, interaction_only=False), alpha=0.95, learning_rate=0.1, loss=huber, max_depth=7, max_features=0.8, min_samples_leaf=2, min_samples_split=6, n_estimators=100, subsample=0.7000000000000001)\n",
      "-4.662900248203816\n"
     ]
    }
   ],
   "source": [
    "reg.fit(X_train_airfoil, y_train_airfoil)\n",
    "print(reg.score(X_test_airfoil, y_test_airfoil))"
   ]
  },
  {
   "cell_type": "markdown",
   "metadata": {},
   "source": []
  },
  {
   "cell_type": "code",
   "execution_count": null,
   "metadata": {},
   "outputs": [
    {
     "name": "stdout",
     "output_type": "stream",
     "text": [
      "Warning: xgboost.XGBRegressor is not available and will not be used by TPOT.\n"
     ]
    },
    {
     "data": {
      "application/vnd.jupyter.widget-view+json": {
       "model_id": "b4a9e22dc843464dad96ac87a72b1c26",
       "version_major": 2,
       "version_minor": 0
      },
      "text/plain": [
       "Optimization Progress:   0%|          | 0/2550 [00:00<?, ?pipeline/s]"
      ]
     },
     "metadata": {},
     "output_type": "display_data"
    },
    {
     "name": "stdout",
     "output_type": "stream",
     "text": [
      "\n",
      "Generation 1 - Current best internal CV score: -4.092582398780001\n",
      "\n",
      "Generation 2 - Current best internal CV score: -4.092582398780001\n",
      "\n",
      "Generation 3 - Current best internal CV score: -4.092582398780001\n",
      "\n",
      "Generation 4 - Current best internal CV score: -4.092582398780001\n",
      "\n",
      "Generation 5 - Current best internal CV score: -4.092582398780001\n",
      "\n",
      "Generation 6 - Current best internal CV score: -4.092582398780001\n",
      "\n",
      "Generation 7 - Current best internal CV score: -4.044693474183838\n",
      "\n",
      "Generation 8 - Current best internal CV score: -4.044693474183838\n",
      "\n",
      "Generation 9 - Current best internal CV score: -4.044693474183838\n",
      "\n",
      "Generation 10 - Current best internal CV score: -4.044693474183838\n",
      "\n",
      "Generation 11 - Current best internal CV score: -4.041146313278145\n",
      "\n",
      "Generation 12 - Current best internal CV score: -4.038663822264688\n",
      "\n",
      "Generation 13 - Current best internal CV score: -4.038663822264688\n",
      "\n",
      "Generation 14 - Current best internal CV score: -4.038663822264688\n",
      "\n",
      "Generation 15 - Current best internal CV score: -4.038334371920278\n",
      "\n",
      "Generation 16 - Current best internal CV score: -4.038334371920278\n",
      "\n",
      "Generation 17 - Current best internal CV score: -4.038334371920278\n",
      "\n",
      "Generation 18 - Current best internal CV score: -4.027169271794849\n",
      "\n",
      "Generation 19 - Current best internal CV score: -4.027169271794849\n",
      "\n",
      "Generation 20 - Current best internal CV score: -4.027169271794849\n",
      "\n",
      "Generation 21 - Current best internal CV score: -4.027169271794849\n"
     ]
    }
   ],
   "source": [
    "reg.fit(X_train_abalone_reg, y_train_abalone_reg)\n",
    "print(reg.score(X_test_abalone_reg, y_test_abalone_reg))"
   ]
  },
  {
   "cell_type": "markdown",
   "metadata": {},
   "source": [
    "Best pipeline: RandomForestRegressor(PCA(input_matrix, iterated_power=4, svd_solver=randomized), bootstrap=False, max_features=0.30000000000000004, min_samples_leaf=16, min_samples_split=15, n_estimators=100)\n"
   ]
  },
  {
   "cell_type": "code",
   "execution_count": null,
   "metadata": {},
   "outputs": [],
   "source": []
  }
 ],
 "metadata": {
  "kernelspec": {
   "display_name": "myenv",
   "language": "python",
   "name": "python3"
  },
  "language_info": {
   "codemirror_mode": {
    "name": "ipython",
    "version": 3
   },
   "file_extension": ".py",
   "mimetype": "text/x-python",
   "name": "python",
   "nbconvert_exporter": "python",
   "pygments_lexer": "ipython3",
   "version": "3.12.5"
  }
 },
 "nbformat": 4,
 "nbformat_minor": 2
}
