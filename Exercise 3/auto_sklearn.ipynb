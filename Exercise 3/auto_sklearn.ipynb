{
 "cells": [
  {
   "cell_type": "markdown",
   "metadata": {},
   "source": [
    "# TPOT\n",
    "\n",
    "Group 18 Members:\n",
    "\n",
    "- Clara Pichler, 11917694\n",
    "- Hannah Knapp, 11901857 \n",
    "- Sibel Toprakkiran, 09426341\n",
    "\n",
    "### Overview\n",
    "\n",
    "1. Data Sets\n",
    "\n",
    "2. Evaluation of TPOT\n",
    "- Iris Dataset\n",
    "- Congressional Voting Dataset\n",
    "- Airfoil Dataset\n",
    "- Abalone Data set\n",
    "\n",
    "\n",
    "The evaluation our implementation and TPOT will be done in the files `ML_A3_Group18.ipynb` and `tpot.ipynb`."
   ]
  },
  {
   "cell_type": "code",
   "execution_count": null,
   "metadata": {},
   "outputs": [],
   "source": []
  }
 ],
 "metadata": {
  "kernelspec": {
   "display_name": "myenv",
   "language": "python",
   "name": "python3"
  },
  "language_info": {
   "name": "python",
   "version": "3.12.5"
  }
 },
 "nbformat": 4,
 "nbformat_minor": 2
}
