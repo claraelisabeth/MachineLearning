{
 "cells": [
  {
   "cell_type": "markdown",
   "metadata": {},
   "source": []
  },
  {
   "cell_type": "markdown",
   "metadata": {},
   "source": [
    "# AutoSklearn \n",
    "\n",
    "Group 18 Members:\n",
    "\n",
    "- Clara Pichler, 11917694\n",
    "- Hannah Knapp, 11901857 \n",
    "- Sibel Toprakkiran, 09426341\n",
    "\n",
    "### Overview\n",
    "\n",
    "1. Data Sets\n",
    "\n",
    "2. Evaluation of AutoSklearn\n",
    "- Iris Dataset\n",
    "- Congressional Voting Dataset\n",
    "- Airfoil Dataset\n",
    "- Abalone Data set\n",
    "\n",
    "\n",
    "The evaluation of our implementation and TPOT will be done in the files `ML_A3_Group18.ipynb` and `tpot.ipynb`."
   ]
  },
  {
   "cell_type": "code",
   "execution_count": null,
   "metadata": {},
   "outputs": [],
   "source": [
    "from autosklearn.classification import AutoSklearnClassifier\n",
    "from autosklearn.regression import AutoSklearnRegressor\n",
    "\n",
    "from sklearn.experimental import enable_iterative_imputer \n",
    "from sklearn.impute import IterativeImputer\n",
    "\n",
    "from sklearn import datasets\n",
    "from sklearn.model_selection import train_test_split\n",
    "from sklearn.metrics import accuracy_score, mean_absolute_error, mean_squared_error\n",
    "\n",
    "import numpy as np\n",
    "import pandas as pd"
   ]
  },
  {
   "cell_type": "markdown",
   "metadata": {},
   "source": [
    "## Data\n",
    "\n",
    "Small pre-processing steps and splitting into train and test set with a ratio of 7:3 just as for TPOT."
   ]
  },
  {
   "cell_type": "code",
   "execution_count": null,
   "metadata": {},
   "outputs": [],
   "source": [
    "iris = datasets.load_iris()\n",
    "iris_data = pd.DataFrame(data= np.c_[iris['data'], iris['target']], columns= iris['feature_names'] + ['target'])\n",
    "iris_data['target'] = iris_data['target'].map({0: 'setosa', 1: 'versicolor', 2: 'virginica'})\n",
    "\n",
    "df_voting = pd.read_csv('/CongressionalVotingID.shuf.lrn.csv')\n",
    "\n",
    "df_airfoil = pd.read_csv(\"/airfoil_noise_data.csv\")\n",
    "\n",
    "url='/abalone.csv'\n",
    "column_names = [\"Sex\", \"Length\", \"Diameter\", \"Height\", \"Whole_weight\", \"Shucked_weight\", \"Viscera_weight\", \"Shell_weight\", \"Rings\"]\n",
    "df_abalone = pd.read_csv(url, header=0, names=column_names)\n",
    "df_abalone = df_abalone[df_abalone.Height != 0]\n",
    "\n",
    "X_iris = iris_data.drop(['target'], axis=1)\n",
    "y_iris = iris_data['target']\n",
    "\n",
    "X_train_iris, X_test_iris, y_train_iris, y_test_iris = train_test_split(X_iris, y_iris, test_size=0.7, random_state=42)\n",
    "\n",
    "pd.set_option('future.no_silent_downcasting', True)\n",
    "df_voting = df_voting.replace({\"democrat\": 0,\"republican\": 1,\"n\": 0,\"y\": 1,\"unknown\": np.nan})\n",
    "df_voting = df_voting.drop(columns=['ID'])\n",
    "\n",
    "imp = IterativeImputer(max_iter=10, random_state=0)\n",
    "df_voting = pd.DataFrame(imp.fit_transform(df_voting), columns=df_voting.columns)\n",
    "\n",
    "X_voting = df_voting.drop(['class'], axis=1)\n",
    "y_voting = df_voting['class']\n",
    "\n",
    "X_train_voting, X_test_voting, y_train_voting, y_test_voting = train_test_split(X_voting, y_voting, test_size=0.7, random_state=42)\n",
    "\n",
    "df_abalone = df_abalone[df_abalone.Height != 0]\n",
    "\n",
    "X_airfoil = df_airfoil.drop(['y'], axis=1)\n",
    "y_airfoil = df_airfoil['y']\n",
    "\n",
    "X_train_airfoil, X_test_airfoil, y_train_airfoil, y_test_airfoil = train_test_split(X_airfoil, y_airfoil, test_size=0.7, random_state=42)\n",
    "\n",
    "X_abalone_reg = df_abalone.drop(['Rings'], axis=1)\n",
    "y_abalone_reg = df_abalone['Rings']\n",
    "\n",
    "X_train_abalone, X_test_abalone, y_train_abalone, y_test_abalone = train_test_split(X_abalone_reg, y_abalone_reg, test_size=0.7, random_state=42)\n"
   ]
  },
  {
   "cell_type": "markdown",
   "metadata": {},
   "source": [
    "## Evaluation"
   ]
  },
  {
   "cell_type": "code",
   "execution_count": null,
   "metadata": {},
   "outputs": [],
   "source": [
    "cls = AutoSklearnClassifier()\n",
    "\n",
    "reg = AutoSklearnRegressor()"
   ]
  },
  {
   "cell_type": "markdown",
   "metadata": {},
   "source": [
    "### Iris"
   ]
  },
  {
   "cell_type": "code",
   "execution_count": null,
   "metadata": {},
   "outputs": [],
   "source": [
    "cls.fit(X_train_iris, y_train_iris)\n",
    "predictions = cls.predict(X_test_iris)\n",
    "\n",
    "print(\"Accuracy score\", accuracy_score(y_test_iris, predictions))\n",
    "iris_leadership = cls.leaderboard(detailed = True,ensemble_only=False,sort_order=\"descending\")\n",
    "iris_leadership\n",
    "#print(cls.show_models())"
   ]
  },
  {
   "cell_type": "markdown",
   "metadata": {},
   "source": [
    "### Congressional Voting"
   ]
  },
  {
   "cell_type": "code",
   "execution_count": null,
   "metadata": {},
   "outputs": [],
   "source": [
    "cls.fit(X_train_voting, y_train_voting)\n",
    "predictions = cls.predict(X_test_voting)\n",
    "\n",
    "print(\"Accuracy score\", accuracy_score(y_test_voting, predictions))\n",
    "voting_leadership = cls.leaderboard(detailed = True,ensemble_only=False,sort_order=\"descending\")\n",
    "voting_leadership\n",
    "#print(cls.show_models())"
   ]
  },
  {
   "cell_type": "markdown",
   "metadata": {},
   "source": [
    "### Airfoil"
   ]
  },
  {
   "cell_type": "code",
   "execution_count": null,
   "metadata": {},
   "outputs": [],
   "source": [
    "reg.fit(X_train_airfoil, y_train_airfoil)\n",
    "predictions = reg.predict(X_test_airfoil)\n",
    "\n",
    "print(\"MAE test score:\", mean_absolute_error(y_test_airfoil, predictions))\n",
    "print(\"MSE test score:\", mean_squared_error(y_test_airfoil, predictions))\n",
    "airfoil_leadership = reg.leaderboard(detailed = True,ensemble_only=False,sort_order=\"descending\")\n",
    "airfoil_leadership\n",
    "#print(reg.show_models())"
   ]
  },
  {
   "cell_type": "markdown",
   "metadata": {},
   "source": [
    "### Abalone"
   ]
  },
  {
   "cell_type": "code",
   "execution_count": null,
   "metadata": {},
   "outputs": [],
   "source": [
    "reg.fit(X_train_abalone, y_train_abalone)\n",
    "predictions = reg.predict(X_test_abalone)\n",
    "\n",
    "print(\"MAE test score:\", mean_absolute_error(y_test_abalone, predictions))\n",
    "print(\"MSE test score:\", mean_squared_error(y_test_abalone, predictions))\n",
    "abalone_leadership = reg.leaderboard(detailed = True,ensemble_only=False,sort_order=\"descending\")\n",
    "abalone_leadership\n",
    "#print(reg.show_models())"
   ]
  }
 ],
 "metadata": {
  "kernelspec": {
   "display_name": "myenv",
   "language": "python",
   "name": "python3"
  },
  "language_info": {
   "name": "python",
   "version": "3.12.5"
  }
 },
 "nbformat": 4,
 "nbformat_minor": 2
}
