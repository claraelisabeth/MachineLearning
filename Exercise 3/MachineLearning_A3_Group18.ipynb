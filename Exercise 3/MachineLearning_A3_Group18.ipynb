{
 "cells": [
  {
   "cell_type": "markdown",
   "metadata": {},
   "source": []
  },
  {
   "cell_type": "markdown",
   "metadata": {},
   "source": [
    "# Automated Machine Learning\n",
    "\n",
    "Group 18 Members:\n",
    "\n",
    "- Clara Pichler, 11917694\n",
    "- Hannah Knapp, 11901857 \n",
    "- Sibel Toprakkiran, 09426341\n",
    "\n",
    "### Overview\n",
    "\n",
    "1. simulated annealing algorithm\n",
    "- \n",
    "\n",
    "2. Comparison with two state of the art AutoML systems\n",
    "- auto-sklearn \n",
    "- TPOT\n",
    "\n",
    "5. Evaluation\n",
    "- Dataset 1\n",
    "- Dataset 2\n",
    "- Dataset 3\n",
    "- Dataset 4"
   ]
  },
  {
   "cell_type": "markdown",
   "metadata": {},
   "source": []
  }
 ],
 "metadata": {
  "kernelspec": {
   "display_name": "Python 3",
   "language": "python",
   "name": "python3"
  },
  "language_info": {
   "name": "python",
   "version": "3.10.7"
  }
 },
 "nbformat": 4,
 "nbformat_minor": 2
}
