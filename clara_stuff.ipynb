{
 "cells": [
  {
   "cell_type": "code",
   "execution_count": 1,
   "metadata": {},
   "outputs": [],
   "source": [
    "import pandas as pd\n",
    "import numpy as np\n",
    "import seaborn as sns\n",
    "import missingno as msno\n",
    "import openpyxl"
   ]
  },
  {
   "cell_type": "code",
   "execution_count": 2,
   "metadata": {},
   "outputs": [],
   "source": [
    "def get_animal_classes(animals):\n",
    "    classes = []\n",
    "    animal_classification = {\n",
    "        'mammal': [\n",
    "            'Aardvark', 'Aardwolf', 'African Elephant', 'African Lion', 'African Wild Dog', 'Alpine Ibex',\n",
    "            'American Bison', 'Anteater', 'Arabian Horse', 'Arabian Oryx', 'Arctic Fox', 'Asian Elephant',\n",
    "            'Australian Fur Seal', 'Aye-Aye', \"Baird's Tapir\", 'Banded Palm Civet', 'Barbary Macaque',\n",
    "            'Bengal Fox', 'Bengal Tiger', 'Black Rhinoceros', 'Blue Whale', 'Bonobo', 'Bornean Orangutan',\n",
    "            'Bottlenose Dolphin', 'Boxer Dog', 'Brown Bear', 'Capybara', 'Cheetah', 'Chimpanzee',\n",
    "            \"Coquerel's Sifaka\", 'Dalmatian Dog', 'Dhole', 'Dingo', 'Dugong', 'Eastern Gorilla', 'Echidna',\n",
    "            'Emperor Tamarin', 'European Hedgehog', 'Fennec Fox', 'Flying Fox', 'Fossa', 'Gaur', 'Gerenuk',\n",
    "            'Giant Panda', 'Golden Lion Tamarin', \"Grevy's Zebra\", 'Harp Seal', 'Hippopotamus', 'Iberian Lynx',\n",
    "            'Indri', 'Japanese Macaque', 'Kangaroo Rat', 'Lemur', 'Lion-tailed Macaque', 'Lyrebird', 'Maned Wolf',\n",
    "            'Markhor', 'Meerkat', 'Mountain Gorilla', 'Naked Mole Rat', 'Numbat', 'Okapi', 'Orangutan', 'Pangolin',\n",
    "            'Patagonian Mara', 'Pink Fairy Armadillo', 'Platypus', 'Polar Bear', 'Proboscis Monkey', 'Pronghorn',\n",
    "            'Quokka', 'Red Fox', 'Red Kangaroo', 'Red Panda', 'Rottweiler', 'Saola', 'Serval', 'Siberian Husky',\n",
    "            'Sloth', 'Slow Loris', 'Snow Leopard', 'Spectacled Bear', 'Spider Monkey', 'Spotted Hyena',\n",
    "            'Squirrel Monkey', 'Star-Nosed Mole', 'Sumatran Orangutan', 'Sumatran Rhino', 'Sumatran Rhinoceros',\n",
    "            'Sumatran Tiger', 'Sun Bear', 'Tapir', 'Tarsier', 'Tasmanian Devil', 'Three-Toed Sloth',\n",
    "            'Tibetan Mastiff', 'Tiger', 'Tree Kangaroo', 'Uakari', 'Vampire Bat', 'Vaquita', 'Walrus', 'Warthog',\n",
    "            'Water Buffalo', 'Western Gorilla', 'Western Lowland Gorilla', 'White Rhinoceros', 'White Tiger',\n",
    "            'Wild Boar', 'Wildebeest', 'Wolf', 'Wolverine', 'Wombat', 'Yak', 'Zebra'\n",
    "        ],\n",
    "        'bird': [\n",
    "            'Atlantic Puffin', 'Bald Eagle', 'Blue Jay', 'Blue-Footed Booby', 'Emperor Penguin', 'Galápagos Penguin',\n",
    "            'Galápagos Tortoise', 'Golden Poison Dart Frog', 'Harpy Eagle', 'Hummingbird', 'Kakapo', 'Kiwi',\n",
    "            'Lyrebird', 'Secretary Bird', 'Shoebill', 'Snowy Owl', 'Toco Toucan', 'Tufted Puffin', 'Vulture',\n",
    "            'Woodpecker', 'Yellow-Eyed Penguin'\n",
    "        ],\n",
    "        'reptile': [\n",
    "            'Bearded Dragon', 'Burmese Python', 'Common Snapping Turtle', 'Frilled Lizard', 'Gharial', 'Gila Monster',\n",
    "            'Green Anaconda', 'Green Sea Turtle', 'King Cobra', 'Komodo Dragon', 'Leaf-tailed Gecko',\n",
    "            'Malayan Krait', 'Monitor Lizard', 'Thorny Devil', 'Titanoboa'\n",
    "        ],\n",
    "        'amphibian': [\n",
    "            'Amazon Rainforest Frog', 'Axolotl', 'Chinese Giant Salamander', 'Fire Salamander', 'Glass Frog',\n",
    "            'Red-Eyed Tree Frog'\n",
    "        ],\n",
    "        'fish': [\n",
    "            'Arowana', 'Basking Shark', 'Blobfish', 'Clownfish', 'Coelacanth', 'Electric Eel', 'Goblin Shark',\n",
    "            'Great White Shark', 'Leafy Sea Dragon', 'Pufferfish', 'Shortfin Mako Shark', 'Whale Shark',\n",
    "            'Zebra Shark'\n",
    "        ],\n",
    "        'arthropod': [\n",
    "            'Brazilian Wandering Spider', 'Blue Morpho Butterfly', 'Horseshoe Crab', 'Japanese Giant Hornet',\n",
    "            'Mantis Shrimp', 'Peacock Mantis Shrimp', 'Praying Mantis', 'Tsetse Fly', 'Yeti Crab'\n",
    "        ],\n",
    "        'vertebrate': ['Galliformes'],\n",
    "        'invertebrate': ['Nudibranch', 'Termite']\n",
    "    }\n",
    "\n",
    "    for animal in animals:\n",
    "        classified = False\n",
    "        for animal_class, members in animal_classification.items():\n",
    "            if animal in members:\n",
    "                classes.append(animal_class)\n",
    "                classified = True\n",
    "                break\n",
    "        if not classified:\n",
    "            classes.append(np.nan)  # Animal not recognized, assigning NaN\n",
    "\n",
    "    return classes\n",
    "\n",
    "animals = [\n",
    "    'Aardvark', 'Aardwolf', 'African Elephant', 'African Lion', 'African Wild Dog', 'Alpine Ibex',\n",
    "    'Amazon Rainforest Frog', 'American Bison', 'Anteater', 'Arabian Horse', 'Arabian Oryx', 'Arctic Fox',\n",
    "    'Arowana', 'Asian Elephant', 'Atlantic Puffin', 'Atlantic Spotted Dolphin', 'Australian Fur Seal', 'Axolotl',\n",
    "    'Aye-Aye', \"Baird's Tapir\", 'Bald Eagle', 'Banded Palm Civet', 'Barbary Macaque', 'Basking Shark',\n",
    "    'Bearded Dragon', 'Bengal Fox', 'Bengal Tiger', 'Black Rhinoceros', 'Blobfish', 'Blue Jay',\n",
    "    'Blue Morpho Butterfly', 'Blue Whale', 'Blue-Footed Booby', 'Blue-Ringed Octopus', 'Bonobo',\n",
    "    'Bornean Orangutan', 'Bottlenose Dolphin', 'Boxer Dog', 'Brazilian Wandering Spider', 'Brown Bear',\n",
    "    'Burmese Python', 'Capybara', 'Cheetah', 'Chimpanzee', 'Chinese Giant Salamander', 'Clownfish',\n",
    "    'Coelacanth', 'Common Dolphin', 'Common Snapping Turtle', \"Coquerel's Sifaka\", 'Dalmatian Dog', 'Dhole',\n",
    "    'Dingo', 'Dugong', 'Eastern Gorilla', 'Echidna', 'Electric Eel', 'Emperor Penguin', 'Emperor Tamarin',\n",
    "    'European Hedgehog', 'Fennec Fox', 'Fire Salamander', 'Flying Fox', 'Fossa', 'Frilled Lizard',\n",
    "    'Galápagos Penguin', 'Galápagos Penguin', 'Galápagos Tortoise', 'Galliformes', 'Gaur', 'Gerenuk',\n",
    "    'Gharial', 'Giant Pacific Octopus', 'Giant Panda', 'Gila Monster', 'Glass Frog', 'Goblin Shark',\n",
    "    'Golden Lion Tamarin', 'Golden Poison Dart Frog', 'Great White Shark', 'Green Anaconda', 'Green Sea Turtle',\n",
    "    \"Grevy's Zebra\", 'Hagfish', 'Harp Seal', 'Harpy Eagle', 'Hippopotamus', 'Horseshoe Crab', 'Hummingbird',\n",
    "    'Humpback Whale', 'Iberian Lynx', 'Indri', 'Japanese Giant Hornet', 'Japanese Macaque', 'Kakapo',\n",
    "    'Kangaroo Rat', 'King Cobra', 'Kiwi', 'Komodo Dragon', 'Leaf-tailed Gecko', 'Leafy Sea Dragon', 'Lemur',\n",
    "    'Lion-tailed Macaque', 'Lyrebird', 'Malayan Krait', 'Manatee', 'Mandrill', 'Maned Wolf', 'Mantis Shrimp',\n",
    "    'Markhor', 'Meerkat', 'Monitor Lizard', 'Mountain Gorilla', 'Naked Mole Rat', 'Narwhal', 'Nudibranch',\n",
    "    'Numbat', 'Okapi', 'Orangutan', 'Pangolin', 'Patagonian Mara', 'Peacock Mantis Shrimp', 'Pink Fairy Armadillo',\n",
    "    'Platypus', 'Polar Bear', 'Potoo', 'Praying Mantis', 'Proboscis Monkey', 'Pronghorn', 'Pufferfish', 'Quokka',\n",
    "    'Red Fox', 'Red Kangaroo', 'Red Panda', 'Red-Eyed Tree Frog', 'Rottweiler', 'Saola', 'Secretary Bird',\n",
    "    'Serval', 'Shoebill', 'Shortfin Mako Shark', 'Siberian Husky', 'Sloth', 'Slow Loris', 'Snow Leopard',\n",
    "    'Snowy Owl', 'Spectacled Bear', 'Sperm Whale', 'Spider Monkey', 'Spotted Hyena', 'Squirrel Monkey',\n",
    "    'Star-Nosed Mole', 'Sumatran Orangutan', 'Sumatran Rhino', 'Sumatran Rhinoceros', 'Sumatran Tiger', 'Sun Bear',\n",
    "    'Tapir', 'Tarsier', 'Tasmanian Devil', 'Tasmanian Tiger', 'Termite', 'Thorny Devil', 'Three-Toed Sloth',\n",
    "    'Tibetan Mastiff', 'Tiger', 'Titanoboa', 'Toco Toucan', 'Tree Kangaroo', 'Tsetse Fly', 'Tuatara', 'Tufted Puffin',\n",
    "    'Uakari', 'Vampire Bat', 'Vaquita', 'Vulture', 'Walrus', 'Warthog', 'Water Buffalo', 'Western Gorilla',\n",
    "    'Western Lowland Gorilla', 'Whale Shark', 'White Rhinoceros', 'White Tiger', 'Wild Boar', 'Wildebeest',\n",
    "    'Wolf', 'Wolverine', 'Wombat', 'Woodpecker', 'Woolly Mammoth', 'Yak', 'Yellow-Eyed Penguin', 'Yeti Crab',\n",
    "    'Zebra', 'Zebra Shark'\n",
    "]\n"
   ]
  },
  {
   "cell_type": "code",
   "execution_count": 4,
   "metadata": {},
   "outputs": [
    {
     "name": "stdout",
     "output_type": "stream",
     "text": [
      "196\n"
     ]
    }
   ],
   "source": [
    "classes = get_animal_classes(animals)\n",
    "print(len(classes))"
   ]
  },
  {
   "cell_type": "code",
   "execution_count": null,
   "metadata": {},
   "outputs": [],
   "source": []
  }
 ],
 "metadata": {
  "kernelspec": {
   "display_name": "Python myenv",
   "language": "python",
   "name": "mein-venv-name"
  },
  "language_info": {
   "codemirror_mode": {
    "name": "ipython",
    "version": 3
   },
   "file_extension": ".py",
   "mimetype": "text/x-python",
   "name": "python",
   "nbconvert_exporter": "python",
   "pygments_lexer": "ipython3",
   "version": "3.12.5"
  }
 },
 "nbformat": 4,
 "nbformat_minor": 2
}
