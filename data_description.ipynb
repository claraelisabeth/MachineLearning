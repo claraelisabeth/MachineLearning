{
 "cells": [
  {
   "cell_type": "markdown",
   "metadata": {},
   "source": [
    "# Machine Learning \n",
    "## Data Description\n",
    "\n",
    "Group 50 Members:\n",
    "\n",
    "- Clara Pichler, 11917694\n",
    "- Hannah Knapp, 11901857 \n",
    "- Niklas Klenner, 11778405\n",
    "\n",
    "### Overview\n",
    "\n",
    "1. Data Sets\n",
    "- Used Data Sets\n",
    "- Requirements & Dependencies\n",
    "\n",
    "2. Data Exploration\n",
    "- Loading in the Data Sets\n",
    "- Life Expectancy\n",
    "    - Missing Values\n",
    "    - Visualizations\n",
    "- Animals\n",
    "    - Adding the Class Attribute\n",
    "    - Missing Values\n",
    "    - Visualizations\n",
    "\n",
    "\n"
   ]
  },
  {
   "cell_type": "markdown",
   "metadata": {},
   "source": [
    "## Data Sets\n",
    "\n",
    "### Used Datasets\n",
    "\n",
    "__Life Expectancy:__\n",
    "\n",
    "- _content_: Global Life Expectancy with Socio-Economic variables 2000-2019\n",
    "- _timespan_: 2000-2019\n",
    "- _source_: https://www.kaggle.com/datasets/mjshri23/life-expectancy-and-socio-economic-world-bank?rvi=1\n",
    "Although many data frames on life expectancy are found on the Kaggle website, we chose this specific one by Shritej Shrikant Chavan, which was updated 2023. It was one of the few data sets that had data up to the year of 2019.\n",
    "\n",
    "\n",
    "__Animal Dataset:__\n",
    "- _content_: An In-Depth Animal Information Repository\n",
    "- _source_: https://www.kaggle.com/datasets/iamsouravbanerjee/animal-information-dataset?resource=download\n",
    "\n",
    "### Requirements & Dependencies\n",
    "\n",
    "This project was created using Python 3.12.5 The exact versions of the dependencies can be installed with the following command."
   ]
  },
  {
   "cell_type": "code",
   "execution_count": null,
   "metadata": {
    "vscode": {
     "languageId": "shellscript"
    }
   },
   "outputs": [],
   "source": [
    "%pip install -r requirements.txt -q"
   ]
  },
  {
   "cell_type": "code",
   "execution_count": 36,
   "metadata": {},
   "outputs": [],
   "source": [
    "import pandas as pd\n",
    "import numpy as np\n",
    "import seaborn as sns\n",
    "import missingno as msno\n",
    "import matplotlib.pyplot as plt\n",
    "import plotly.express as px\n",
    "from sklearn.impute import SimpleImputer"
   ]
  },
  {
   "cell_type": "markdown",
   "metadata": {},
   "source": [
    "## Data Exploration\n",
    "\n",
    "### Loading in the Data Sets"
   ]
  },
  {
   "cell_type": "code",
   "execution_count": 15,
   "metadata": {},
   "outputs": [],
   "source": [
    "df_life_exp = pd.read_csv('data/life_expectancy.csv')\n",
    "df_animals = pd.read_csv('data/Animal_Dataset.csv')"
   ]
  },
  {
   "cell_type": "markdown",
   "metadata": {},
   "source": [
    "### Life Expectancy"
   ]
  },
  {
   "cell_type": "code",
   "execution_count": 29,
   "metadata": {},
   "outputs": [
    {
     "data": {
      "text/html": [
       "<div>\n",
       "<style scoped>\n",
       "    .dataframe tbody tr th:only-of-type {\n",
       "        vertical-align: middle;\n",
       "    }\n",
       "\n",
       "    .dataframe tbody tr th {\n",
       "        vertical-align: top;\n",
       "    }\n",
       "\n",
       "    .dataframe thead th {\n",
       "        text-align: right;\n",
       "    }\n",
       "</style>\n",
       "<table border=\"1\" class=\"dataframe\">\n",
       "  <thead>\n",
       "    <tr style=\"text-align: right;\">\n",
       "      <th></th>\n",
       "      <th>Country Name</th>\n",
       "      <th>Country Code</th>\n",
       "      <th>Region</th>\n",
       "      <th>IncomeGroup</th>\n",
       "      <th>Year</th>\n",
       "      <th>Life Expectancy World Bank</th>\n",
       "      <th>Prevelance of Undernourishment</th>\n",
       "      <th>CO2</th>\n",
       "      <th>Health Expenditure %</th>\n",
       "      <th>Education Expenditure %</th>\n",
       "      <th>Unemployment</th>\n",
       "      <th>Corruption</th>\n",
       "      <th>Sanitation</th>\n",
       "      <th>Injuries</th>\n",
       "      <th>Communicable</th>\n",
       "      <th>NonCommunicable</th>\n",
       "    </tr>\n",
       "  </thead>\n",
       "  <tbody>\n",
       "    <tr>\n",
       "      <th>0</th>\n",
       "      <td>Afghanistan</td>\n",
       "      <td>AFG</td>\n",
       "      <td>South Asia</td>\n",
       "      <td>Low income</td>\n",
       "      <td>2001</td>\n",
       "      <td>56.308</td>\n",
       "      <td>47.8</td>\n",
       "      <td>730.0</td>\n",
       "      <td>NaN</td>\n",
       "      <td>NaN</td>\n",
       "      <td>10.809000</td>\n",
       "      <td>NaN</td>\n",
       "      <td>NaN</td>\n",
       "      <td>2179727.10</td>\n",
       "      <td>9689193.70</td>\n",
       "      <td>5795426.38</td>\n",
       "    </tr>\n",
       "    <tr>\n",
       "      <th>1</th>\n",
       "      <td>Angola</td>\n",
       "      <td>AGO</td>\n",
       "      <td>Sub-Saharan Africa</td>\n",
       "      <td>Lower middle income</td>\n",
       "      <td>2001</td>\n",
       "      <td>47.059</td>\n",
       "      <td>67.5</td>\n",
       "      <td>15960.0</td>\n",
       "      <td>4.483516</td>\n",
       "      <td>NaN</td>\n",
       "      <td>4.004000</td>\n",
       "      <td>NaN</td>\n",
       "      <td>NaN</td>\n",
       "      <td>1392080.71</td>\n",
       "      <td>11190210.53</td>\n",
       "      <td>2663516.34</td>\n",
       "    </tr>\n",
       "    <tr>\n",
       "      <th>2</th>\n",
       "      <td>Albania</td>\n",
       "      <td>ALB</td>\n",
       "      <td>Europe &amp; Central Asia</td>\n",
       "      <td>Upper middle income</td>\n",
       "      <td>2001</td>\n",
       "      <td>74.288</td>\n",
       "      <td>4.9</td>\n",
       "      <td>3230.0</td>\n",
       "      <td>7.139524</td>\n",
       "      <td>3.4587</td>\n",
       "      <td>18.575001</td>\n",
       "      <td>NaN</td>\n",
       "      <td>40.520895</td>\n",
       "      <td>117081.67</td>\n",
       "      <td>140894.78</td>\n",
       "      <td>532324.75</td>\n",
       "    </tr>\n",
       "    <tr>\n",
       "      <th>3</th>\n",
       "      <td>Andorra</td>\n",
       "      <td>AND</td>\n",
       "      <td>Europe &amp; Central Asia</td>\n",
       "      <td>High income</td>\n",
       "      <td>2001</td>\n",
       "      <td>NaN</td>\n",
       "      <td>NaN</td>\n",
       "      <td>520.0</td>\n",
       "      <td>5.865939</td>\n",
       "      <td>NaN</td>\n",
       "      <td>NaN</td>\n",
       "      <td>NaN</td>\n",
       "      <td>21.788660</td>\n",
       "      <td>1697.99</td>\n",
       "      <td>695.56</td>\n",
       "      <td>13636.64</td>\n",
       "    </tr>\n",
       "    <tr>\n",
       "      <th>4</th>\n",
       "      <td>United Arab Emirates</td>\n",
       "      <td>ARE</td>\n",
       "      <td>Middle East &amp; North Africa</td>\n",
       "      <td>High income</td>\n",
       "      <td>2001</td>\n",
       "      <td>74.544</td>\n",
       "      <td>2.8</td>\n",
       "      <td>97200.0</td>\n",
       "      <td>2.484370</td>\n",
       "      <td>NaN</td>\n",
       "      <td>2.493000</td>\n",
       "      <td>NaN</td>\n",
       "      <td>NaN</td>\n",
       "      <td>144678.14</td>\n",
       "      <td>65271.91</td>\n",
       "      <td>481740.70</td>\n",
       "    </tr>\n",
       "  </tbody>\n",
       "</table>\n",
       "</div>"
      ],
      "text/plain": [
       "           Country Name Country Code                      Region  \\\n",
       "0           Afghanistan          AFG                  South Asia   \n",
       "1                Angola          AGO          Sub-Saharan Africa   \n",
       "2               Albania          ALB       Europe & Central Asia   \n",
       "3               Andorra          AND       Europe & Central Asia   \n",
       "4  United Arab Emirates          ARE  Middle East & North Africa   \n",
       "\n",
       "           IncomeGroup  Year  Life Expectancy World Bank  \\\n",
       "0           Low income  2001                      56.308   \n",
       "1  Lower middle income  2001                      47.059   \n",
       "2  Upper middle income  2001                      74.288   \n",
       "3          High income  2001                         NaN   \n",
       "4          High income  2001                      74.544   \n",
       "\n",
       "   Prevelance of Undernourishment      CO2  Health Expenditure %  \\\n",
       "0                            47.8    730.0                   NaN   \n",
       "1                            67.5  15960.0              4.483516   \n",
       "2                             4.9   3230.0              7.139524   \n",
       "3                             NaN    520.0              5.865939   \n",
       "4                             2.8  97200.0              2.484370   \n",
       "\n",
       "   Education Expenditure %  Unemployment  Corruption  Sanitation    Injuries  \\\n",
       "0                      NaN     10.809000         NaN         NaN  2179727.10   \n",
       "1                      NaN      4.004000         NaN         NaN  1392080.71   \n",
       "2                   3.4587     18.575001         NaN   40.520895   117081.67   \n",
       "3                      NaN           NaN         NaN   21.788660     1697.99   \n",
       "4                      NaN      2.493000         NaN         NaN   144678.14   \n",
       "\n",
       "   Communicable  NonCommunicable  \n",
       "0    9689193.70       5795426.38  \n",
       "1   11190210.53       2663516.34  \n",
       "2     140894.78        532324.75  \n",
       "3        695.56         13636.64  \n",
       "4      65271.91        481740.70  "
      ]
     },
     "metadata": {},
     "output_type": "display_data"
    },
    {
     "name": "stdout",
     "output_type": "stream",
     "text": [
      "<class 'pandas.core.frame.DataFrame'>\n",
      "RangeIndex: 3306 entries, 0 to 3305\n",
      "Data columns (total 16 columns):\n",
      " #   Column                          Non-Null Count  Dtype  \n",
      "---  ------                          --------------  -----  \n",
      " 0   Country Name                    3306 non-null   object \n",
      " 1   Country Code                    3306 non-null   object \n",
      " 2   Region                          3306 non-null   object \n",
      " 3   IncomeGroup                     3306 non-null   object \n",
      " 4   Year                            3306 non-null   int64  \n",
      " 5   Life Expectancy World Bank      3118 non-null   float64\n",
      " 6   Prevelance of Undernourishment  2622 non-null   float64\n",
      " 7   CO2                             3154 non-null   float64\n",
      " 8   Health Expenditure %            3126 non-null   float64\n",
      " 9   Education Expenditure %         2216 non-null   float64\n",
      " 10  Unemployment                    3002 non-null   float64\n",
      " 11  Corruption                      975 non-null    float64\n",
      " 12  Sanitation                      2059 non-null   float64\n",
      " 13  Injuries                        3306 non-null   float64\n",
      " 14  Communicable                    3306 non-null   float64\n",
      " 15  NonCommunicable                 3306 non-null   float64\n",
      "dtypes: float64(11), int64(1), object(4)\n",
      "memory usage: 413.4+ KB\n"
     ]
    },
    {
     "data": {
      "text/html": [
       "<div>\n",
       "<style scoped>\n",
       "    .dataframe tbody tr th:only-of-type {\n",
       "        vertical-align: middle;\n",
       "    }\n",
       "\n",
       "    .dataframe tbody tr th {\n",
       "        vertical-align: top;\n",
       "    }\n",
       "\n",
       "    .dataframe thead th {\n",
       "        text-align: right;\n",
       "    }\n",
       "</style>\n",
       "<table border=\"1\" class=\"dataframe\">\n",
       "  <thead>\n",
       "    <tr style=\"text-align: right;\">\n",
       "      <th></th>\n",
       "      <th>Year</th>\n",
       "      <th>Life Expectancy World Bank</th>\n",
       "      <th>Prevelance of Undernourishment</th>\n",
       "      <th>CO2</th>\n",
       "      <th>Health Expenditure %</th>\n",
       "      <th>Education Expenditure %</th>\n",
       "      <th>Unemployment</th>\n",
       "      <th>Corruption</th>\n",
       "      <th>Sanitation</th>\n",
       "      <th>Injuries</th>\n",
       "      <th>Communicable</th>\n",
       "      <th>NonCommunicable</th>\n",
       "    </tr>\n",
       "  </thead>\n",
       "  <tbody>\n",
       "    <tr>\n",
       "      <th>count</th>\n",
       "      <td>3306.000000</td>\n",
       "      <td>3118.000000</td>\n",
       "      <td>2622.000000</td>\n",
       "      <td>3.154000e+03</td>\n",
       "      <td>3126.000000</td>\n",
       "      <td>2216.000000</td>\n",
       "      <td>3002.000000</td>\n",
       "      <td>975.000000</td>\n",
       "      <td>2059.000000</td>\n",
       "      <td>3.306000e+03</td>\n",
       "      <td>3.306000e+03</td>\n",
       "      <td>3.306000e+03</td>\n",
       "    </tr>\n",
       "    <tr>\n",
       "      <th>mean</th>\n",
       "      <td>2010.000000</td>\n",
       "      <td>69.748362</td>\n",
       "      <td>10.663654</td>\n",
       "      <td>1.574924e+05</td>\n",
       "      <td>6.364059</td>\n",
       "      <td>4.589014</td>\n",
       "      <td>7.890760</td>\n",
       "      <td>2.860513</td>\n",
       "      <td>52.738785</td>\n",
       "      <td>1.318219e+06</td>\n",
       "      <td>4.686289e+06</td>\n",
       "      <td>7.392488e+06</td>\n",
       "    </tr>\n",
       "    <tr>\n",
       "      <th>std</th>\n",
       "      <td>5.478054</td>\n",
       "      <td>9.408154</td>\n",
       "      <td>11.285897</td>\n",
       "      <td>7.726415e+05</td>\n",
       "      <td>2.842844</td>\n",
       "      <td>2.119165</td>\n",
       "      <td>6.270832</td>\n",
       "      <td>0.621343</td>\n",
       "      <td>30.126762</td>\n",
       "      <td>5.214068e+06</td>\n",
       "      <td>1.843727e+07</td>\n",
       "      <td>2.932688e+07</td>\n",
       "    </tr>\n",
       "    <tr>\n",
       "      <th>min</th>\n",
       "      <td>2001.000000</td>\n",
       "      <td>40.369000</td>\n",
       "      <td>2.500000</td>\n",
       "      <td>1.000000e+01</td>\n",
       "      <td>1.263576</td>\n",
       "      <td>0.850320</td>\n",
       "      <td>0.100000</td>\n",
       "      <td>1.000000</td>\n",
       "      <td>2.377647</td>\n",
       "      <td>4.304900e+02</td>\n",
       "      <td>3.301600e+02</td>\n",
       "      <td>2.481820e+03</td>\n",
       "    </tr>\n",
       "    <tr>\n",
       "      <th>25%</th>\n",
       "      <td>2005.000000</td>\n",
       "      <td>63.642000</td>\n",
       "      <td>2.500000</td>\n",
       "      <td>2.002500e+03</td>\n",
       "      <td>4.205443</td>\n",
       "      <td>3.136118</td>\n",
       "      <td>3.733000</td>\n",
       "      <td>2.500000</td>\n",
       "      <td>24.746007</td>\n",
       "      <td>6.245688e+04</td>\n",
       "      <td>5.776475e+04</td>\n",
       "      <td>3.184758e+05</td>\n",
       "    </tr>\n",
       "    <tr>\n",
       "      <th>50%</th>\n",
       "      <td>2010.000000</td>\n",
       "      <td>72.168500</td>\n",
       "      <td>6.200000</td>\n",
       "      <td>1.020500e+04</td>\n",
       "      <td>5.892352</td>\n",
       "      <td>4.371465</td>\n",
       "      <td>5.920000</td>\n",
       "      <td>3.000000</td>\n",
       "      <td>49.317481</td>\n",
       "      <td>2.456910e+05</td>\n",
       "      <td>3.147693e+05</td>\n",
       "      <td>1.350146e+06</td>\n",
       "    </tr>\n",
       "    <tr>\n",
       "      <th>75%</th>\n",
       "      <td>2015.000000</td>\n",
       "      <td>76.809000</td>\n",
       "      <td>14.775000</td>\n",
       "      <td>5.877250e+04</td>\n",
       "      <td>8.119166</td>\n",
       "      <td>5.519825</td>\n",
       "      <td>10.097500</td>\n",
       "      <td>3.250000</td>\n",
       "      <td>80.278847</td>\n",
       "      <td>8.465591e+05</td>\n",
       "      <td>2.831636e+06</td>\n",
       "      <td>3.918468e+06</td>\n",
       "    </tr>\n",
       "    <tr>\n",
       "      <th>max</th>\n",
       "      <td>2019.000000</td>\n",
       "      <td>84.356341</td>\n",
       "      <td>70.900000</td>\n",
       "      <td>1.070722e+07</td>\n",
       "      <td>24.230680</td>\n",
       "      <td>23.270000</td>\n",
       "      <td>37.250000</td>\n",
       "      <td>4.500000</td>\n",
       "      <td>100.000004</td>\n",
       "      <td>5.563676e+07</td>\n",
       "      <td>2.685646e+08</td>\n",
       "      <td>3.246378e+08</td>\n",
       "    </tr>\n",
       "  </tbody>\n",
       "</table>\n",
       "</div>"
      ],
      "text/plain": [
       "              Year  Life Expectancy World Bank  \\\n",
       "count  3306.000000                 3118.000000   \n",
       "mean   2010.000000                   69.748362   \n",
       "std       5.478054                    9.408154   \n",
       "min    2001.000000                   40.369000   \n",
       "25%    2005.000000                   63.642000   \n",
       "50%    2010.000000                   72.168500   \n",
       "75%    2015.000000                   76.809000   \n",
       "max    2019.000000                   84.356341   \n",
       "\n",
       "       Prevelance of Undernourishment           CO2  Health Expenditure %  \\\n",
       "count                     2622.000000  3.154000e+03           3126.000000   \n",
       "mean                        10.663654  1.574924e+05              6.364059   \n",
       "std                         11.285897  7.726415e+05              2.842844   \n",
       "min                          2.500000  1.000000e+01              1.263576   \n",
       "25%                          2.500000  2.002500e+03              4.205443   \n",
       "50%                          6.200000  1.020500e+04              5.892352   \n",
       "75%                         14.775000  5.877250e+04              8.119166   \n",
       "max                         70.900000  1.070722e+07             24.230680   \n",
       "\n",
       "       Education Expenditure %  Unemployment  Corruption   Sanitation  \\\n",
       "count              2216.000000   3002.000000  975.000000  2059.000000   \n",
       "mean                  4.589014      7.890760    2.860513    52.738785   \n",
       "std                   2.119165      6.270832    0.621343    30.126762   \n",
       "min                   0.850320      0.100000    1.000000     2.377647   \n",
       "25%                   3.136118      3.733000    2.500000    24.746007   \n",
       "50%                   4.371465      5.920000    3.000000    49.317481   \n",
       "75%                   5.519825     10.097500    3.250000    80.278847   \n",
       "max                  23.270000     37.250000    4.500000   100.000004   \n",
       "\n",
       "           Injuries  Communicable  NonCommunicable  \n",
       "count  3.306000e+03  3.306000e+03     3.306000e+03  \n",
       "mean   1.318219e+06  4.686289e+06     7.392488e+06  \n",
       "std    5.214068e+06  1.843727e+07     2.932688e+07  \n",
       "min    4.304900e+02  3.301600e+02     2.481820e+03  \n",
       "25%    6.245688e+04  5.776475e+04     3.184758e+05  \n",
       "50%    2.456910e+05  3.147693e+05     1.350146e+06  \n",
       "75%    8.465591e+05  2.831636e+06     3.918468e+06  \n",
       "max    5.563676e+07  2.685646e+08     3.246378e+08  "
      ]
     },
     "execution_count": 29,
     "metadata": {},
     "output_type": "execute_result"
    }
   ],
   "source": [
    "display(df_life_exp.head(5))\n",
    "df_life_exp.info(verbose=True)\n",
    "df_life_exp.describe()"
   ]
  },
  {
   "cell_type": "code",
   "execution_count": 30,
   "metadata": {},
   "outputs": [
    {
     "data": {
      "text/plain": [
       "array([2001, 2002, 2003, 2004, 2005, 2006, 2007, 2008, 2009, 2010, 2011,\n",
       "       2012, 2013, 2014, 2015, 2016, 2017, 2018, 2019])"
      ]
     },
     "metadata": {},
     "output_type": "display_data"
    },
    {
     "data": {
      "text/plain": [
       "array(['AFG', 'AGO', 'ALB', 'AND', 'ARE', 'ARG', 'ARM', 'ASM', 'ATG',\n",
       "       'AUS', 'AUT', 'AZE', 'BDI', 'BEL', 'BEN', 'BFA', 'BGD', 'BGR',\n",
       "       'BHR', 'BIH', 'BLR', 'BLZ', 'BMU', 'BOL', 'BRA', 'BRB', 'BTN',\n",
       "       'BWA', 'CAF', 'CAN', 'CHE', 'CHL', 'CHN', 'CIV', 'CMR', 'COL',\n",
       "       'COM', 'CRI', 'CUB', 'CYP', 'DEU', 'DJI', 'DMA', 'DNK', 'DOM',\n",
       "       'DZA', 'ECU', 'ERI', 'ESP', 'EST', 'ETH', 'FIN', 'FJI', 'FRA',\n",
       "       'GAB', 'GBR', 'GEO', 'GHA', 'GIN', 'GNB', 'GNQ', 'GRC', 'GRD',\n",
       "       'GRL', 'GTM', 'GUM', 'GUY', 'HND', 'HRV', 'HTI', 'HUN', 'IDN',\n",
       "       'IND', 'IRL', 'IRQ', 'ISL', 'ISR', 'ITA', 'JAM', 'JOR', 'JPN',\n",
       "       'KAZ', 'KEN', 'KHM', 'KIR', 'KWT', 'LBN', 'LBR', 'LBY', 'LKA',\n",
       "       'LSO', 'LTU', 'LUX', 'LVA', 'MAR', 'MCO', 'MDA', 'MDG', 'MDV',\n",
       "       'MEX', 'MHL', 'MKD', 'MLI', 'MLT', 'MMR', 'MNE', 'MNG', 'MNP',\n",
       "       'MOZ', 'MRT', 'MUS', 'MWI', 'MYS', 'NAM', 'NER', 'NGA', 'NIC',\n",
       "       'NLD', 'NOR', 'NPL', 'NRU', 'NZL', 'OMN', 'PAK', 'PAN', 'PER',\n",
       "       'PHL', 'PLW', 'PNG', 'POL', 'PRI', 'PRT', 'PRY', 'QAT', 'ROU',\n",
       "       'RWA', 'SAU', 'SDN', 'SEN', 'SGP', 'SLB', 'SLE', 'SLV', 'SMR',\n",
       "       'SOM', 'SRB', 'SSD', 'STP', 'SUR', 'SVN', 'SWE', 'SWZ', 'SYC',\n",
       "       'TCD', 'TGO', 'THA', 'TJK', 'TKM', 'TON', 'TTO', 'TUN', 'TUV',\n",
       "       'TZA', 'UGA', 'UKR', 'URY', 'USA', 'UZB', 'VNM', 'VUT', 'WSM',\n",
       "       'ZAF', 'ZMB', 'ZWE'], dtype=object)"
      ]
     },
     "metadata": {},
     "output_type": "display_data"
    },
    {
     "data": {
      "text/plain": [
       "174"
      ]
     },
     "metadata": {},
     "output_type": "display_data"
    },
    {
     "data": {
      "text/plain": [
       "array(['South Asia', 'Sub-Saharan Africa', 'Europe & Central Asia',\n",
       "       'Middle East & North Africa', 'Latin America & Caribbean',\n",
       "       'East Asia & Pacific', 'North America'], dtype=object)"
      ]
     },
     "metadata": {},
     "output_type": "display_data"
    },
    {
     "data": {
      "text/plain": [
       "array(['Low income', 'Lower middle income', 'Upper middle income',\n",
       "       'High income'], dtype=object)"
      ]
     },
     "metadata": {},
     "output_type": "display_data"
    }
   ],
   "source": [
    "display(df_life_exp[\"Year\"].unique())\n",
    "display(df_life_exp[\"Country Code\"].unique(), len(df_life_exp[\"Country Code\"].unique()))\n",
    "display(df_life_exp[\"Region\"].unique())\n",
    "display(df_life_exp[\"IncomeGroup\"].unique())"
   ]
  },
  {
   "cell_type": "markdown",
   "metadata": {},
   "source": [
    "Through the above code, we were able to have a first glimpse into the life expectancy dataset. The data ranges from the years 2001 till 2019 and has information about 174 unique countries across the world. We mostly want to focus on the feature _Life Expectancy World Bank_, since we want to predict it through regression. In the following steps we will transform the dataset to make it easier to work with and also look at the missing values."
   ]
  },
  {
   "cell_type": "markdown",
   "metadata": {},
   "source": [
    "### Missing Values"
   ]
  },
  {
   "cell_type": "code",
   "execution_count": 31,
   "metadata": {},
   "outputs": [
    {
     "data": {
      "text/plain": [
       "Country Name                         0\n",
       "Country Code                         0\n",
       "Region                               0\n",
       "IncomeGroup                          0\n",
       "Year                                 0\n",
       "Life Expectancy World Bank         188\n",
       "Prevelance of Undernourishment     684\n",
       "CO2                                152\n",
       "Health Expenditure %               180\n",
       "Education Expenditure %           1090\n",
       "Unemployment                       304\n",
       "Corruption                        2331\n",
       "Sanitation                        1247\n",
       "Injuries                             0\n",
       "Communicable                         0\n",
       "NonCommunicable                      0\n",
       "dtype: int64"
      ]
     },
     "execution_count": 31,
     "metadata": {},
     "output_type": "execute_result"
    },
    {
     "data": {
      "image/png": "[encoded data removed]",
      "text/plain": [
       "<Figure size 2500x1000 with 2 Axes>"
      ]
     },
     "metadata": {},
     "output_type": "display_data"
    }
   ],
   "source": [
    "msno.matrix(df_life_exp)\n",
    "df_life_exp.isna().sum()"
   ]
  },
  {
   "cell_type": "markdown",
   "metadata": {},
   "source": [
    "There are numerous possibilities to deal with missing values. Although it sounds lazy, __sometimes__ one can just delete a feature or row if it's not worth it to fill the missing values in since the given data is not enough to fill out the missing values correctly. "
   ]
  },
  {
   "cell_type": "code",
   "execution_count": 32,
   "metadata": {},
   "outputs": [
    {
     "data": {
      "text/plain": [
       "3                        Andorra\n",
       "7                 American Samoa\n",
       "42                      Dominica\n",
       "95                        Monaco\n",
       "100             Marshall Islands\n",
       "                  ...           \n",
       "3239    Northern Mariana Islands\n",
       "3252                       Nauru\n",
       "3259                       Palau\n",
       "3275                  San Marino\n",
       "3293                      Tuvalu\n",
       "Name: Country Name, Length: 188, dtype: object"
      ]
     },
     "metadata": {},
     "output_type": "display_data"
    },
    {
     "data": {
      "text/plain": [
       "3                   Andorra\n",
       "7            American Samoa\n",
       "8       Antigua and Barbuda\n",
       "22                  Bermuda\n",
       "42                 Dominica\n",
       "               ...         \n",
       "3252                  Nauru\n",
       "3259                  Palau\n",
       "3275             San Marino\n",
       "3284             Seychelles\n",
       "3293                 Tuvalu\n",
       "Name: Country Name, Length: 304, dtype: object"
      ]
     },
     "metadata": {},
     "output_type": "display_data"
    },
    {
     "data": {
      "text/plain": [
       "array(['Andorra', 'American Samoa', 'Dominica', 'Monaco',\n",
       "       'Marshall Islands', 'Northern Mariana Islands', 'Nauru', 'Palau',\n",
       "       'San Marino', 'Tuvalu'], dtype=object)"
      ]
     },
     "metadata": {},
     "output_type": "display_data"
    }
   ],
   "source": [
    "display(df_life_exp[df_life_exp[\"Life Expectancy World Bank\"].isna()][\"Country Name\"], )\n",
    "display(df_life_exp[df_life_exp[\"Unemployment\"].isna()][\"Country Name\"])\n",
    "display(df_life_exp[df_life_exp[\"Life Expectancy World Bank\"].isna() & df_life_exp[\"Unemployment\"].isna()][\"Country Name\"].unique())"
   ]
  },
  {
   "cell_type": "markdown",
   "metadata": {},
   "source": [
    "### Visualizations"
   ]
  },
  {
   "cell_type": "code",
   "execution_count": 45,
   "metadata": {},
   "outputs": [],
   "source": [
    "df_life_exp_short = df_life_exp.rename(columns={\n",
    "    'Country Name': 'CountryName',\n",
    "    'Country Code': 'CountryCode',\n",
    "    'Region': 'Region',\n",
    "    'IncomeGroup': 'Income',\n",
    "    'Year': 'Year',\n",
    "    'Life Expectancy World Bank': 'LifeEx',\n",
    "    'Prevelance of Undernourishment': 'PoU',\n",
    "    'CO2': 'CO2',\n",
    "    'Health Expenditure %': 'Health',\n",
    "    'Education Expenditure %': 'Educ',\n",
    "    'Unemployment': 'Unempl',\n",
    "    'Corruption': 'Corrupt',\n",
    "    'Sanitation': 'Sanitation',\n",
    "    'Injuries': 'Injuries',\n",
    "    'Communicable': 'Comm',\n",
    "    'NonCommunicable': 'NonComm'\n",
    "})"
   ]
  },
  {
   "cell_type": "code",
   "execution_count": 47,
   "metadata": {},
   "outputs": [
    {
     "data": {
      "application/vnd.plotly.v1+json": {
       "config": {
        "plotlyServerURL": "https://plot.ly"
       },
       "data": [
        {
         "dimensions": [
          {
           "axis": {
            "matches": true
           },
           "label": "LifeEx",
           "values": [
            64.833,
            61.584,
            61.577,
            53.283,
            66.321,
            66.597,
            61.602,
            58.322,
            64.104,
            67.041,
            59.306,
            60.854,
            64.263,
            62.42,
            69.024,
            65.311,
            54.696,
            57.397,
            57.846,
            54.239,
            61.042,
            63.368,
            63.886
           ]
          },
          {
           "axis": {
            "matches": true
           },
           "label": "Unempl",
           "values": [
            11.2170000076294,
            1.58899998664856,
            4.69299983978271,
            5.6230001449585,
            5.99399995803833,
            2.32599997520447,
            5.01999998092651,
            6.03599977493286,
            3.01500010490417,
            1.85699999332428,
            7.44199991226196,
            3.46600008010864,
            5.7519998550415,
            0.554000020027161,
            1.09800004959106,
            17.6539993286133,
            4.64900016784668,
            18.8279991149902,
            12.2259998321533,
            1.12300002574921,
            3.71900010108948,
            1.92499995231628,
            12.5200004577637
           ]
          },
          {
           "axis": {
            "matches": true
           },
           "label": "Health",
           "values": [
            13.24220181,
            7.99091434,
            5.46494246,
            7.75300884,
            4.45876694,
            3.23808599,
            3.98389959,
            8.34976101,
            8.47005749,
            3.68728375,
            3.89389849,
            7.83351135,
            7.39341164,
            5.6686306,
            6.41066742,
            4.57356596,
            8.74976635,
            null,
            6.04213858,
            4.3536315,
            5.72606897,
            3.82522416,
            5.31220293
           ]
          },
          {
           "axis": {
            "matches": true
           },
           "label": "Educ",
           "values": [
            3.21377992630005,
            5.34668445587158,
            5.69684505462646,
            1.76871228218079,
            null,
            null,
            1.84836995601654,
            2.94781994819641,
            2.27039003372192,
            2.99485874176025,
            3.48410224914551,
            6.0844202041626,
            3.71131992340088,
            3.52752876281738,
            3.23707413673401,
            null,
            7.4470100402832,
            null,
            null,
            2.37245988845825,
            4.06914329528809,
            1.52999997138977,
            4.46517992019653
           ]
          },
          {
           "axis": {
            "matches": true
           },
           "label": "PoU",
           "values": [
            26.9,
            null,
            14.1,
            49.2,
            null,
            21.9,
            null,
            null,
            39.2,
            47.4,
            5.6,
            31.8,
            17.6,
            null,
            35.2,
            11.7,
            27.9,
            54.8,
            null,
            31.7,
            20.1,
            null,
            null
           ]
          },
          {
           "axis": {
            "matches": true
           },
           "label": "CO2",
           "values": [
            6079.99992370605,
            720.000028610229,
            5000,
            239.999994635582,
            879.999995231628,
            18360.0006103516,
            3950.00004768372,
            330.000013113022,
            1179.99994754791,
            4119.99988555908,
            5829.99992370605,
            7500,
            1450.00004768372,
            2150.00009536743,
            1330.00004291534,
            20620.0008392334,
            899.999976158142,
            689.999997615814,
            1700.00004768372,
            2250,
            2369.99988555908,
            5860.0001335144,
            6800.00019073486
           ]
          }
         ],
         "hovertemplate": "Income=Low income<br>%{xaxis.title.text}=%{x}<br>%{yaxis.title.text}=%{y}<extra></extra>",
         "legendgroup": "Low income",
         "marker": {
          "color": "#636efa",
          "symbol": "circle"
         },
         "name": "Low income",
         "showlegend": true,
         "type": "splom"
        },
        {
         "dimensions": [
          {
           "axis": {
            "matches": true
           },
           "label": "LifeEx",
           "values": [
            61.147,
            61.771,
            72.591,
            71.513,
            71.777,
            57.783,
            59.292,
            64.321,
            67.112,
            76.88,
            64.074,
            75.27,
            64.001,
            71.716,
            69.656,
            66.699,
            69.823,
            68.369,
            78.93,
            76.978,
            54.331,
            76.68,
            67.134,
            69.87,
            64.925,
            54.687,
            74.485,
            70.778,
            67.273,
            71.231,
            64.501,
            67.941,
            72.996,
            73.317,
            70.385,
            60.194,
            71.097,
            76.699,
            65.456,
            71.82731707317075,
            71.725,
            75.4,
            70.474,
            73.321,
            61.49
           ]
          },
          {
           "axis": {
            "matches": true
           },
           "label": "Unempl",
           "values": [
            7.4210000038147,
            1.47000002861023,
            4.43800020217896,
            3.8199999332428,
            2.50200009346008,
            3.31800007820129,
            3.63800001144409,
            8.08199977874756,
            26.3570003509521,
            10.5129995346069,
            4.31599998474121,
            5.69999980926514,
            13.914999961853,
            3.61999988555908,
            5.26999998092651,
            5.01000022888184,
            0.146999999880791,
            null,
            11.3500003814697,
            4.34999990463257,
            22.4400005340576,
            9.27999973297119,
            0.5,
            5.43900012969971,
            10.3929996490479,
            8.52999973297119,
            5.21099996566772,
            3.09699988365173,
            3.54200005531311,
            2.24000000953674,
            2.44899988174438,
            2.85999989509583,
            0.754999995231628,
            4.17000007629395,
            14.1440000534058,
            22.8369998931885,
            7.06099987030029,
            15.1300001144409,
            2.22199988365173,
            8.1899995803833,
            5.84999990463257,
            2.03999996185303,
            1.80099999904633,
            8.4060001373291,
            4.83300018310547
           ]
          },
          {
           "axis": {
            "matches": true
           },
           "label": "Health",
           "values": [
            2.53335953,
            2.38842916,
            2.48357606,
            6.9233799,
            3.60761595,
            3.29862952,
            3.59539533,
            5.17030334,
            1.79826784,
            6.24337101,
            3.41858864,
            7.2839179,
            4.72808981,
            2.90493584,
            3.0141468,
            4.59182692,
            6.98908329,
            10.26414394,
            8.64661503,
            4.07979679,
            11.26946354,
            5.30845118,
            4.67856407,
            3.76607823,
            3.30329728,
            3.02666044,
            8.4039259,
            4.44515085,
            3.37992716,
            4.07676649,
            2.30036092,
            4.13226938,
            4.77362394,
            7.16578436,
            5.52976227,
            6.78069067,
            7.10529375,
            6.95845938,
            3.82769322,
            7.09860182,
            5.61760426,
            5.24965572,
            3.36034679,
            6.36309385,
            7.70356494
           ]
          },
          {
           "axis": {
            "matches": true
           },
           "label": "Educ",
           "values": [
            1.92745733261108,
            2.96519994735718,
            1.32632005214691,
            null,
            5.6758918762207,
            3.71638154983521,
            3.08087658882141,
            null,
            null,
            6.10035991668701,
            null,
            4.91284990310669,
            null,
            2.84185004234314,
            4.40722990036011,
            4.97439002990723,
            null,
            12.3946599960327,
            2.59202003479004,
            1.92999994754791,
            7.99171209335327,
            5.93135690689087,
            2.13986992835999,
            4.94088983535767,
            1.82437002658844,
            null,
            4.59999990463257,
            4.23999977111816,
            2.50755000114441,
            3.23436999320984,
            null,
            5.34887504577637,
            11.1300001144409,
            3.38515996932983,
            5.92154979705811,
            5.64554977416992,
            5.71290016174316,
            null,
            3.59683632850647,
            5.44129991531372,
            7.00186014175415,
            4.06197023391724,
            1.7778799533844,
            4.70625019073486,
            null
           ]
          },
          {
           "axis": {
            "matches": true
           },
           "label": "PoU",
           "values": [
            17.9,
            7.7,
            11,
            11.9,
            null,
            4.7,
            6.7,
            null,
            13.1,
            2.5,
            5.2,
            13.3,
            46.4,
            6.2,
            14.6,
            25.6,
            6,
            4,
            9,
            3.7,
            31.2,
            4.4,
            2.5,
            4,
            9.2,
            12,
            17.5,
            4.8,
            14.1,
            5.5,
            21.9,
            7.4,
            17.8,
            8.3,
            13,
            11.1,
            null,
            2.6,
            23.4,
            2.6,
            2.5,
            6.2,
            12.4,
            4.4,
            null
           ]
          },
          {
           "axis": {
            "matches": true
           },
           "label": "CO2",
           "values": [
            25209.9990844727,
            7300.00019073486,
            90739.9978637695,
            22340.0001525879,
            1049.99995231628,
            10829.9999237061,
            9430.00030517578,
            319.999992847443,
            419.999986886978,
            171250,
            20040.0009155273,
            10220.0002670288,
            3319.9999332428,
            619840.026855469,
            2456300.04882813,
            22280.0006866455,
            16180.0003051758,
            90.0000035762787,
            27950.0007629395,
            23780.0006866455,
            769.999980926514,
            71480.0033569336,
            36720.0012207031,
            23069.9996948242,
            3950.00004768372,
            115279.998779297,
            5239.99977111816,
            13449.9998092651,
            190570.007324219,
            145419.998168945,
            7579.99992370605,
            10619.9998855591,
            360.000014305115,
            7800.00019073486,
            150.000005960464,
            959.999978542328,
            9420.00007629395,
            29909.9998474121,
            12449.9998092651,
            174729.995727539,
            116709.999084473,
            336489.990234375,
            209.999993443489,
            300.000011920929,
            11760.0002288818
           ]
          }
         ],
         "hovertemplate": "Income=Lower middle income<br>%{xaxis.title.text}=%{x}<br>%{yaxis.title.text}=%{y}<extra></extra>",
         "legendgroup": "Lower middle income",
         "marker": {
          "color": "#EF553B",
          "symbol": "circle"
         },
         "name": "Lower middle income",
         "showlegend": true,
         "type": "splom"
        },
        {
         "dimensions": [
          {
           "axis": {
            "matches": true
           },
           "label": "LifeEx",
           "values": [
            78.573,
            76.667,
            75.087,
            null,
            73.005,
            75.11219512195122,
            77.401,
            74.2268292682927,
            74.623,
            75.881,
            69.592,
            76.912,
            77.287,
            80.279,
            78.802,
            null,
            74.081,
            77.01,
            67.444,
            66.467,
            73.767,
            58.735,
            72.397,
            74.302,
            69.906,
            70.604,
            74.475,
            74.526,
            73.18,
            72.913,
            71.901,
            78.921,
            75.054,
            null,
            76.60243902439025,
            76.6829268292683,
            74.23585365853658,
            76.156,
            63.708,
            76.736,
            null,
            74.254,
            75.93658536585367,
            71.682,
            77.15,
            68.191,
            70.907,
            null,
            64.131
           ]
          },
          {
           "axis": {
            "matches": true
           },
           "label": "Unempl",
           "values": [
            11.4700002670288,
            9.84000015258789,
            18.2999992370605,
            null,
            4.84999990463257,
            4.23000001907349,
            15.6899995803833,
            4.15999984741211,
            6.71099996566772,
            11.9300003051758,
            22.6100006103516,
            4.51999998092651,
            9.96000003814697,
            11.4899997711182,
            1.73500001430511,
            null,
            6.3600001335144,
            3.80999994277954,
            4.44799995422363,
            20.742000579834,
            11.5699996948242,
            8.67899990081787,
            null,
            2.19000005722046,
            13.9919996261597,
            12.8629999160767,
            7.69000005722046,
            16.8099994659424,
            4.80000019073486,
            19.6550006866455,
            5.09999990463257,
            5.34000015258789,
            3.48000001907349,
            null,
            17.2600002288818,
            15.1199998855591,
            6.32999992370605,
            3.25999999046326,
            19.988000869751,
            3.38000011444092,
            null,
            6.59000015258789,
            10.3900003433228,
            8.03999996185303,
            0.720000028610229,
            4.26800012588501,
            3.06200003623962,
            null,
            28.4699993133545
           ]
          },
          {
           "axis": {
            "matches": true
           },
           "label": "Health",
           "values": [
            null,
            9.5100708,
            11.33526421,
            null,
            4.03829002,
            7.12611389,
            9.04909897,
            5.86133957,
            5.96689224,
            9.5912714,
            6.04836559,
            5.3502779,
            7.70943594,
            7.27393246,
            11.34020519,
            5.46006632,
            5.929142,
            7.81824684,
            3.81607008,
            2.76836205,
            6.65744257,
            3.13503671,
            4.96524,
            6.21161032,
            4.93048668,
            4.47671509,
            6.09748316,
            7.58246946,
            2.78745675,
            null,
            6.3779459,
            8.04001141,
            5.43305254,
            16.34140015,
            7.25409985,
            8.32983208,
            6.19943714,
            3.82514191,
            8.49700546,
            5.21506882,
            15.15048885,
            7.17281008,
            8.67206478,
            9.7369957,
            3.78912091,
            6.56862497,
            4.98149967,
            23.96181297,
            9.10935497
           ]
          },
          {
           "axis": {
            "matches": true
           },
           "label": "Educ",
           "values": [
            3.91665005683899,
            4.72417020797729,
            2.56185007095337,
            null,
            2.68108010292053,
            null,
            null,
            4.97947978973389,
            7.1383900642395,
            null,
            6.91436862945557,
            3.53999996185303,
            4.5062198638916,
            6.79584980010986,
            null,
            5.57618999481201,
            4.04276990890503,
            4.22565984725952,
            5.06788015365601,
            2.73232412338257,
            3.80864000320435,
            null,
            null,
            3.19928002357483,
            null,
            null,
            5.16364002227783,
            2.98847007751465,
            2.8569700717926,
            null,
            6.10378980636597,
            4.12159013748169,
            null,
            15.75,
            null,
            null,
            4.71929979324341,
            4.15661001205444,
            8.92702674865723,
            3.81996011734009,
            6.80999994277954,
            3.46971011161804,
            3.61647009849548,
            6.83225870132446,
            2.96898007392883,
            3.12065005302429,
            7.95963001251221,
            null,
            5.9177098274231
           ]
          },
          {
           "axis": {
            "matches": true
           },
           "label": "PoU",
           "values": [
            4.3,
            3.5,
            3.1,
            null,
            2.5,
            3,
            2.5,
            2.5,
            6.8,
            2.6,
            22.1,
            2.5,
            7.2,
            3.4,
            2.5,
            6.5,
            7,
            13.7,
            4.9,
            16.6,
            7.8,
            null,
            null,
            16.3,
            5,
            17.4,
            7.5,
            14.6,
            2.5,
            null,
            null,
            null,
            6,
            null,
            3.1,
            2.5,
            7.2,
            2.6,
            18.9,
            8.1,
            null,
            8.2,
            3.7,
            8,
            8,
            3.5,
            null,
            null,
            6.3
           ]
          },
          {
           "axis": {
            "matches": true
           },
           "label": "CO2",
           "values": [
            4829.99992370605,
            168100.006103516,
            6170.00007629395,
            null,
            35509.9983215332,
            39139.9993896484,
            21069.9996948242,
            57669.9981689453,
            639.999985694885,
            434299.987792969,
            7250,
            10707219.7265625,
            81040.0009155273,
            8239.99977111816,
            25909.9998474121,
            170.000001788139,
            27229.9995422363,
            39290.0009155273,
            1629.99999523163,
            5250,
            10109.9996566772,
            5349.99990463257,
            330.000013113022,
            19309.9994659424,
            2849.99990463257,
            174559.997558594,
            8390.00034332275,
            24629.9991607666,
            212110.000610352,
            56799.9992370605,
            8859.99965667725,
            2109.99989509583,
            449269.989013672,
            180.000007152557,
            8300.00019073486,
            2599.99990463257,
            4170.00007629395,
            253270.004272461,
            4219.99979019165,
            56750,
            250,
            8210.00003814697,
            45950.0007629395,
            2650.00009536743,
            267089.996337891,
            72870.002746582,
            159.999996423721,
            9.99999977648258,
            439640.014648438
           ]
          }
         ],
         "hovertemplate": "Income=Upper middle income<br>%{xaxis.title.text}=%{x}<br>%{yaxis.title.text}=%{y}<extra></extra>",
         "legendgroup": "Upper middle income",
         "marker": {
          "color": "#00cc96",
          "symbol": "circle"
         },
         "name": "Upper middle income",
         "showlegend": true,
         "type": "splom"
        },
        {
         "dimensions": [
          {
           "axis": {
            "matches": true
           },
           "label": "LifeEx",
           "values": [
            null,
            77.972,
            77.016,
            82.9,
            81.89512195121951,
            81.99512195121952,
            77.292,
            81.86658536585367,
            79.19,
            82.04878048780488,
            83.90487804878049,
            80.181,
            80.982,
            81.29268292682927,
            81.45121951219514,
            83.83170731707318,
            78.64634146341466,
            81.9829268292683,
            82.8268292682927,
            81.2048780487805,
            81.63902439024392,
            72.04756097560977,
            80.074,
            78.42439024390245,
            76.31951219512194,
            82.70243902439026,
            83.16341463414635,
            82.8048780487805,
            83.49756097560977,
            84.35634146341464,
            75.489,
            76.28292682926829,
            82.63902439024392,
            75.3878048780488,
            null,
            82.85853658536587,
            null,
            82.11219512195122,
            82.95853658536586,
            null,
            81.70731707317074,
            77.861,
            78.506,
            77.90487804878049,
            79.92851219512197,
            81.67560975609757,
            80.227,
            75.60731707317073,
            75.133,
            83.59512195121953,
            null,
            81.52926829268293,
            83.10975609756099,
            74.04634146341465,
            73.507,
            77.911,
            78.78780487804877
           ]
          },
          {
           "axis": {
            "matches": true
           },
           "label": "Unempl",
           "values": [
            null,
            2.23000001907349,
            null,
            5.15999984741211,
            4.48999977111816,
            5.3600001335144,
            1.19599997997284,
            null,
            8.40999984741211,
            5.65999984741211,
            4.3899998664856,
            7.28999996185303,
            7.07000017166138,
            3.14000010490417,
            5.01999998092651,
            14.1000003814697,
            4.44999980926514,
            6.69000005722046,
            8.40999984741211,
            3.74000000953674,
            17.3099994659424,
            null,
            5.5149998664856,
            6.61999988555908,
            3.42000007629395,
            4.94999980926514,
            3.50999999046326,
            3.79999995231628,
            9.94999980926514,
            2.40000009536743,
            2.16700005531311,
            6.26000022888184,
            5.59000015258789,
            6.30999994277954,
            null,
            3.61999988555908,
            null,
            3.38000011444092,
            3.69000005722046,
            null,
            4.1100001335144,
            1.84800004959106,
            4.72599983215332,
            3.27999997138977,
            8.30000019073486,
            6.46000003814697,
            0.100000001490116,
            3.91000008583069,
            5.6729998588562,
            3.09999990463257,
            null,
            4.44999980926514,
            6.82999992370605,
            null,
            3.42199993133545,
            8.88000011444092,
            3.67000007629395
           ]
          },
          {
           "axis": {
            "matches": true
           },
           "label": "Health",
           "values": [
            6.71158504,
            4.27504921,
            4.44295979,
            9.91078568,
            10.43403149,
            10.65604973,
            4.01147509,
            null,
            6.29990387,
            10.84447765,
            11.29148102,
            9.33272362,
            7.00903225,
            11.69724941,
            9.95583057,
            9.13213158,
            6.7304492,
            9.15348339,
            11.05747223,
            10.15402699,
            7.83788586,
            null,
            null,
            6.97861767,
            6.35002232,
            6.67931509,
            8.63868046,
            7.46131897,
            8.66856861,
            10.74372482,
            5.49601221,
            7.00600433,
            5.37075996,
            6.57814217,
            1.5251174,
            8.21444321,
            null,
            10.13031101,
            10.52134705,
            9.78171635,
            9.74117661,
            4.07190228,
            7.58405781,
            6.44682503,
            null,
            9.53145981,
            2.9106288,
            5.74447823,
            5.68828773,
            4.08152914,
            6.39008522,
            8.52386475,
            10.86749268,
            5.1902914,
            7.02007389,
            9.34783173,
            16.76706314
           ]
          },
          {
           "axis": {
            "matches": true
           },
           "label": "Educ",
           "values": [
            3.15060997009277,
            3.86736989021301,
            2.83133506774902,
            null,
            null,
            null,
            2.09491229057312,
            null,
            3.20398998260498,
            null,
            null,
            null,
            null,
            null,
            null,
            null,
            null,
            null,
            null,
            null,
            null,
            null,
            null,
            null,
            null,
            null,
            null,
            null,
            null,
            null,
            6.49243021011353,
            null,
            null,
            null,
            1.15266001224518,
            null,
            null,
            null,
            null,
            5.59653806686401,
            null,
            5.41320991516113,
            3.12736010551453,
            null,
            null,
            null,
            2.80378007888794,
            null,
            6.79473543167114,
            2.73621010780334,
            3.37969994544983,
            null,
            null,
            3.91458988189697,
            3.69809150695801,
            4.70325994491577,
            null
           ]
          },
          {
           "axis": {
            "matches": true
           },
           "label": "PoU",
           "values": [
            null,
            6,
            null,
            2.5,
            2.5,
            2.5,
            null,
            null,
            3.7,
            2.5,
            2.5,
            2.6,
            2.5,
            2.5,
            2.5,
            2.5,
            2.5,
            2.5,
            2.5,
            2.5,
            2.5,
            null,
            null,
            2.5,
            2.5,
            2.5,
            2.5,
            2.5,
            2.5,
            2.8,
            2.5,
            2.5,
            2.5,
            2.5,
            null,
            2.5,
            null,
            2.5,
            2.5,
            null,
            2.5,
            8.8,
            5.4,
            2.5,
            null,
            2.5,
            null,
            2.5,
            3.9,
            null,
            null,
            2.5,
            2.5,
            null,
            7.3,
            2.5,
            2.5
           ]
          },
          {
           "axis": {
            "matches": true
           },
           "label": "CO2",
           "values": [
            500,
            188860.000610352,
            519.999980926514,
            386529.998779297,
            64769.9966430664,
            93010.0021362305,
            33259.9983215332,
            null,
            1250,
            580210.021972656,
            37380.0010681152,
            91370.002746582,
            7190.00005722046,
            657400.024414063,
            29700.0007629395,
            239979.995727539,
            10180.0003051758,
            40709.9990844727,
            300519.989013672,
            348920.013427734,
            60000,
            null,
            null,
            16520.0004577637,
            46380.0010681152,
            35750,
            1639.99998569489,
            62650.0015258789,
            317239.990234375,
            1081569.94628906,
            92650.0015258789,
            11729.9995422363,
            9489.99977111816,
            7570.00017166138,
            null,
            1659.9999666214,
            null,
            146339.996337891,
            35950.0007629395,
            59.9999986588955,
            34009.9983215332,
            76029.9987792969,
            13340.0001525879,
            295130.004882813,
            null,
            44639.9993896484,
            91970.0012207031,
            73949.9969482422,
            523780.029296875,
            47380.0010681152,
            null,
            13600.0003814697,
            35000,
            610.000014305115,
            17190.0005340576,
            6489.99977111816,
            4817720.21484375
           ]
          }
         ],
         "hovertemplate": "Income=High income<br>%{xaxis.title.text}=%{x}<br>%{yaxis.title.text}=%{y}<extra></extra>",
         "legendgroup": "High income",
         "marker": {
          "color": "#ab63fa",
          "symbol": "circle"
         },
         "name": "High income",
         "showlegend": true,
         "type": "splom"
        }
       ],
       "layout": {
        "dragmode": "select",
        "legend": {
         "title": {
          "text": "Income"
         },
         "tracegroupgap": 0
        },
        "margin": {
         "t": 60
        },
        "template": {
         "data": {
          "bar": [
           {
            "error_x": {
             "color": "#2a3f5f"
            },
            "error_y": {
             "color": "#2a3f5f"
            },
            "marker": {
             "line": {
              "color": "#E5ECF6",
              "width": 0.5
             },
             "pattern": {
              "fillmode": "overlay",
              "size": 10,
              "solidity": 0.2
             }
            },
            "type": "bar"
           }
          ],
          "barpolar": [
           {
            "marker": {
             "line": {
              "color": "#E5ECF6",
              "width": 0.5
             },
             "pattern": {
              "fillmode": "overlay",
              "size": 10,
              "solidity": 0.2
             }
            },
            "type": "barpolar"
           }
          ],
          "carpet": [
           {
            "aaxis": {
             "endlinecolor": "#2a3f5f",
             "gridcolor": "white",
             "linecolor": "white",
             "minorgridcolor": "white",
             "startlinecolor": "#2a3f5f"
            },
            "baxis": {
             "endlinecolor": "#2a3f5f",
             "gridcolor": "white",
             "linecolor": "white",
             "minorgridcolor": "white",
             "startlinecolor": "#2a3f5f"
            },
            "type": "carpet"
           }
          ],
          "choropleth": [
           {
            "colorbar": {
             "outlinewidth": 0,
             "ticks": ""
            },
            "type": "choropleth"
           }
          ],
          "contour": [
           {
            "colorbar": {
             "outlinewidth": 0,
             "ticks": ""
            },
            "colorscale": [
             [
              0,
              "#0d0887"
             ],
             [
              0.1111111111111111,
              "#46039f"
             ],
             [
              0.2222222222222222,
              "#7201a8"
             ],
             [
              0.3333333333333333,
              "#9c179e"
             ],
             [
              0.4444444444444444,
              "#bd3786"
             ],
             [
              0.5555555555555556,
              "#d8576b"
             ],
             [
              0.6666666666666666,
              "#ed7953"
             ],
             [
              0.7777777777777778,
              "#fb9f3a"
             ],
             [
              0.8888888888888888,
              "#fdca26"
             ],
             [
              1,
              "#f0f921"
             ]
            ],
            "type": "contour"
           }
          ],
          "contourcarpet": [
           {
            "colorbar": {
             "outlinewidth": 0,
             "ticks": ""
            },
            "type": "contourcarpet"
           }
          ],
          "heatmap": [
           {
            "colorbar": {
             "outlinewidth": 0,
             "ticks": ""
            },
            "colorscale": [
             [
              0,
              "#0d0887"
             ],
             [
              0.1111111111111111,
              "#46039f"
             ],
             [
              0.2222222222222222,
              "#7201a8"
             ],
             [
              0.3333333333333333,
              "#9c179e"
             ],
             [
              0.4444444444444444,
              "#bd3786"
             ],
             [
              0.5555555555555556,
              "#d8576b"
             ],
             [
              0.6666666666666666,
              "#ed7953"
             ],
             [
              0.7777777777777778,
              "#fb9f3a"
             ],
             [
              0.8888888888888888,
              "#fdca26"
             ],
             [
              1,
              "#f0f921"
             ]
            ],
            "type": "heatmap"
           }
          ],
          "heatmapgl": [
           {
            "colorbar": {
             "outlinewidth": 0,
             "ticks": ""
            },
            "colorscale": [
             [
              0,
              "#0d0887"
             ],
             [
              0.1111111111111111,
              "#46039f"
             ],
             [
              0.2222222222222222,
              "#7201a8"
             ],
             [
              0.3333333333333333,
              "#9c179e"
             ],
             [
              0.4444444444444444,
              "#bd3786"
             ],
             [
              0.5555555555555556,
              "#d8576b"
             ],
             [
              0.6666666666666666,
              "#ed7953"
             ],
             [
              0.7777777777777778,
              "#fb9f3a"
             ],
             [
              0.8888888888888888,
              "#fdca26"
             ],
             [
              1,
              "#f0f921"
             ]
            ],
            "type": "heatmapgl"
           }
          ],
          "histogram": [
           {
            "marker": {
             "pattern": {
              "fillmode": "overlay",
              "size": 10,
              "solidity": 0.2
             }
            },
            "type": "histogram"
           }
          ],
          "histogram2d": [
           {
            "colorbar": {
             "outlinewidth": 0,
             "ticks": ""
            },
            "colorscale": [
             [
              0,
              "#0d0887"
             ],
             [
              0.1111111111111111,
              "#46039f"
             ],
             [
              0.2222222222222222,
              "#7201a8"
             ],
             [
              0.3333333333333333,
              "#9c179e"
             ],
             [
              0.4444444444444444,
              "#bd3786"
             ],
             [
              0.5555555555555556,
              "#d8576b"
             ],
             [
              0.6666666666666666,
              "#ed7953"
             ],
             [
              0.7777777777777778,
              "#fb9f3a"
             ],
             [
              0.8888888888888888,
              "#fdca26"
             ],
             [
              1,
              "#f0f921"
             ]
            ],
            "type": "histogram2d"
           }
          ],
          "histogram2dcontour": [
           {
            "colorbar": {
             "outlinewidth": 0,
             "ticks": ""
            },
            "colorscale": [
             [
              0,
              "#0d0887"
             ],
             [
              0.1111111111111111,
              "#46039f"
             ],
             [
              0.2222222222222222,
              "#7201a8"
             ],
             [
              0.3333333333333333,
              "#9c179e"
             ],
             [
              0.4444444444444444,
              "#bd3786"
             ],
             [
              0.5555555555555556,
              "#d8576b"
             ],
             [
              0.6666666666666666,
              "#ed7953"
             ],
             [
              0.7777777777777778,
              "#fb9f3a"
             ],
             [
              0.8888888888888888,
              "#fdca26"
             ],
             [
              1,
              "#f0f921"
             ]
            ],
            "type": "histogram2dcontour"
           }
          ],
          "mesh3d": [
           {
            "colorbar": {
             "outlinewidth": 0,
             "ticks": ""
            },
            "type": "mesh3d"
           }
          ],
          "parcoords": [
           {
            "line": {
             "colorbar": {
              "outlinewidth": 0,
              "ticks": ""
             }
            },
            "type": "parcoords"
           }
          ],
          "pie": [
           {
            "automargin": true,
            "type": "pie"
           }
          ],
          "scatter": [
           {
            "fillpattern": {
             "fillmode": "overlay",
             "size": 10,
             "solidity": 0.2
            },
            "type": "scatter"
           }
          ],
          "scatter3d": [
           {
            "line": {
             "colorbar": {
              "outlinewidth": 0,
              "ticks": ""
             }
            },
            "marker": {
             "colorbar": {
              "outlinewidth": 0,
              "ticks": ""
             }
            },
            "type": "scatter3d"
           }
          ],
          "scattercarpet": [
           {
            "marker": {
             "colorbar": {
              "outlinewidth": 0,
              "ticks": ""
             }
            },
            "type": "scattercarpet"
           }
          ],
          "scattergeo": [
           {
            "marker": {
             "colorbar": {
              "outlinewidth": 0,
              "ticks": ""
             }
            },
            "type": "scattergeo"
           }
          ],
          "scattergl": [
           {
            "marker": {
             "colorbar": {
              "outlinewidth": 0,
              "ticks": ""
             }
            },
            "type": "scattergl"
           }
          ],
          "scattermapbox": [
           {
            "marker": {
             "colorbar": {
              "outlinewidth": 0,
              "ticks": ""
             }
            },
            "type": "scattermapbox"
           }
          ],
          "scatterpolar": [
           {
            "marker": {
             "colorbar": {
              "outlinewidth": 0,
              "ticks": ""
             }
            },
            "type": "scatterpolar"
           }
          ],
          "scatterpolargl": [
           {
            "marker": {
             "colorbar": {
              "outlinewidth": 0,
              "ticks": ""
             }
            },
            "type": "scatterpolargl"
           }
          ],
          "scatterternary": [
           {
            "marker": {
             "colorbar": {
              "outlinewidth": 0,
              "ticks": ""
             }
            },
            "type": "scatterternary"
           }
          ],
          "surface": [
           {
            "colorbar": {
             "outlinewidth": 0,
             "ticks": ""
            },
            "colorscale": [
             [
              0,
              "#0d0887"
             ],
             [
              0.1111111111111111,
              "#46039f"
             ],
             [
              0.2222222222222222,
              "#7201a8"
             ],
             [
              0.3333333333333333,
              "#9c179e"
             ],
             [
              0.4444444444444444,
              "#bd3786"
             ],
             [
              0.5555555555555556,
              "#d8576b"
             ],
             [
              0.6666666666666666,
              "#ed7953"
             ],
             [
              0.7777777777777778,
              "#fb9f3a"
             ],
             [
              0.8888888888888888,
              "#fdca26"
             ],
             [
              1,
              "#f0f921"
             ]
            ],
            "type": "surface"
           }
          ],
          "table": [
           {
            "cells": {
             "fill": {
              "color": "#EBF0F8"
             },
             "line": {
              "color": "white"
             }
            },
            "header": {
             "fill": {
              "color": "#C8D4E3"
             },
             "line": {
              "color": "white"
             }
            },
            "type": "table"
           }
          ]
         },
         "layout": {
          "annotationdefaults": {
           "arrowcolor": "#2a3f5f",
           "arrowhead": 0,
           "arrowwidth": 1
          },
          "autotypenumbers": "strict",
          "coloraxis": {
           "colorbar": {
            "outlinewidth": 0,
            "ticks": ""
           }
          },
          "colorscale": {
           "diverging": [
            [
             0,
             "#8e0152"
            ],
            [
             0.1,
             "#c51b7d"
            ],
            [
             0.2,
             "#de77ae"
            ],
            [
             0.3,
             "#f1b6da"
            ],
            [
             0.4,
             "#fde0ef"
            ],
            [
             0.5,
             "#f7f7f7"
            ],
            [
             0.6,
             "#e6f5d0"
            ],
            [
             0.7,
             "#b8e186"
            ],
            [
             0.8,
             "#7fbc41"
            ],
            [
             0.9,
             "#4d9221"
            ],
            [
             1,
             "#276419"
            ]
           ],
           "sequential": [
            [
             0,
             "#0d0887"
            ],
            [
             0.1111111111111111,
             "#46039f"
            ],
            [
             0.2222222222222222,
             "#7201a8"
            ],
            [
             0.3333333333333333,
             "#9c179e"
            ],
            [
             0.4444444444444444,
             "#bd3786"
            ],
            [
             0.5555555555555556,
             "#d8576b"
            ],
            [
             0.6666666666666666,
             "#ed7953"
            ],
            [
             0.7777777777777778,
             "#fb9f3a"
            ],
            [
             0.8888888888888888,
             "#fdca26"
            ],
            [
             1,
             "#f0f921"
            ]
           ],
           "sequentialminus": [
            [
             0,
             "#0d0887"
            ],
            [
             0.1111111111111111,
             "#46039f"
            ],
            [
             0.2222222222222222,
             "#7201a8"
            ],
            [
             0.3333333333333333,
             "#9c179e"
            ],
            [
             0.4444444444444444,
             "#bd3786"
            ],
            [
             0.5555555555555556,
             "#d8576b"
            ],
            [
             0.6666666666666666,
             "#ed7953"
            ],
            [
             0.7777777777777778,
             "#fb9f3a"
            ],
            [
             0.8888888888888888,
             "#fdca26"
            ],
            [
             1,
             "#f0f921"
            ]
           ]
          },
          "colorway": [
           "#636efa",
           "#EF553B",
           "#00cc96",
           "#ab63fa",
           "#FFA15A",
           "#19d3f3",
           "#FF6692",
           "#B6E880",
           "#FF97FF",
           "#FECB52"
          ],
          "font": {
           "color": "#2a3f5f"
          },
          "geo": {
           "bgcolor": "white",
           "lakecolor": "white",
           "landcolor": "#E5ECF6",
           "showlakes": true,
           "showland": true,
           "subunitcolor": "white"
          },
          "hoverlabel": {
           "align": "left"
          },
          "hovermode": "closest",
          "mapbox": {
           "style": "light"
          },
          "paper_bgcolor": "white",
          "plot_bgcolor": "#E5ECF6",
          "polar": {
           "angularaxis": {
            "gridcolor": "white",
            "linecolor": "white",
            "ticks": ""
           },
           "bgcolor": "#E5ECF6",
           "radialaxis": {
            "gridcolor": "white",
            "linecolor": "white",
            "ticks": ""
           }
          },
          "scene": {
           "xaxis": {
            "backgroundcolor": "#E5ECF6",
            "gridcolor": "white",
            "gridwidth": 2,
            "linecolor": "white",
            "showbackground": true,
            "ticks": "",
            "zerolinecolor": "white"
           },
           "yaxis": {
            "backgroundcolor": "#E5ECF6",
            "gridcolor": "white",
            "gridwidth": 2,
            "linecolor": "white",
            "showbackground": true,
            "ticks": "",
            "zerolinecolor": "white"
           },
           "zaxis": {
            "backgroundcolor": "#E5ECF6",
            "gridcolor": "white",
            "gridwidth": 2,
            "linecolor": "white",
            "showbackground": true,
            "ticks": "",
            "zerolinecolor": "white"
           }
          },
          "shapedefaults": {
           "line": {
            "color": "#2a3f5f"
           }
          },
          "ternary": {
           "aaxis": {
            "gridcolor": "white",
            "linecolor": "white",
            "ticks": ""
           },
           "baxis": {
            "gridcolor": "white",
            "linecolor": "white",
            "ticks": ""
           },
           "bgcolor": "#E5ECF6",
           "caxis": {
            "gridcolor": "white",
            "linecolor": "white",
            "ticks": ""
           }
          },
          "title": {
           "x": 0.05
          },
          "xaxis": {
           "automargin": true,
           "gridcolor": "white",
           "linecolor": "white",
           "ticks": "",
           "title": {
            "standoff": 15
           },
           "zerolinecolor": "white",
           "zerolinewidth": 2
          },
          "yaxis": {
           "automargin": true,
           "gridcolor": "white",
           "linecolor": "white",
           "ticks": "",
           "title": {
            "standoff": 15
           },
           "zerolinecolor": "white",
           "zerolinewidth": 2
          }
         }
        }
       }
      }
     },
     "metadata": {},
     "output_type": "display_data"
    }
   ],
   "source": [
    "fig = px.scatter_matrix(df_life_exp_short[df_life_exp_short['Year']==2019],\n",
    "    dimensions=[\"LifeEx\", \"Unempl\", \"Health\", 'Educ', 'PoU', 'CO2'],\n",
    "    color=\"Income\")\n",
    "fig.show()"
   ]
  },
  {
   "cell_type": "code",
   "execution_count": 51,
   "metadata": {},
   "outputs": [
    {
     "data": {
      "image/png": "[encoded data removed]",
      "text/plain": [
       "<Figure size 1000x600 with 1 Axes>"
      ]
     },
     "metadata": {},
     "output_type": "display_data"
    }
   ],
   "source": [
    "plt.figure(figsize=(10, 6))\n",
    "sns.barplot(x='Country Code', y='Life Expectancy World Bank', hue='Country Code', data=df_life_exp[(df_life_exp['Year']==2019) & (df_life_exp['Region']=='Europe & Central Asia')].sort_values('Life Expectancy World Bank'))\n",
    "plt.title('Life Expectancy of European & Central Asian Countries')\n",
    "plt.xlabel('Country Code')\n",
    "plt.ylabel('Life Expectancy')\n",
    "plt.xticks(rotation=60)\n",
    "plt.show()"
   ]
  },
  {
   "cell_type": "code",
   "execution_count": 48,
   "metadata": {},
   "outputs": [
    {
     "data": {
      "text/plain": [
       "array([[<Axes: title={'center': 'Year'}>,\n",
       "        <Axes: title={'center': 'LifeEx'}>,\n",
       "        <Axes: title={'center': 'PoU'}>],\n",
       "       [<Axes: title={'center': 'CO2'}>,\n",
       "        <Axes: title={'center': 'Health'}>,\n",
       "        <Axes: title={'center': 'Educ'}>],\n",
       "       [<Axes: title={'center': 'Unempl'}>,\n",
       "        <Axes: title={'center': 'Corrupt'}>,\n",
       "        <Axes: title={'center': 'Sanitation'}>],\n",
       "       [<Axes: title={'center': 'Injuries'}>,\n",
       "        <Axes: title={'center': 'Comm'}>,\n",
       "        <Axes: title={'center': 'NonComm'}>]], dtype=object)"
      ]
     },
     "execution_count": 48,
     "metadata": {},
     "output_type": "execute_result"
    },
    {
     "data": {
      "image/png": "[encoded data removed]",
      "text/plain": [
       "<Figure size 640x480 with 12 Axes>"
      ]
     },
     "metadata": {},
     "output_type": "display_data"
    }
   ],
   "source": [
    "df_life_exp_short.hist()"
   ]
  },
  {
   "cell_type": "code",
   "execution_count": 33,
   "metadata": {},
   "outputs": [
    {
     "data": {
      "image/png": "[encoded data removed]",
      "text/plain": [
       "<Figure size 1000x600 with 1 Axes>"
      ]
     },
     "metadata": {},
     "output_type": "display_data"
    }
   ],
   "source": [
    "plt.figure(figsize=(10, 6))\n",
    "sns.lineplot(x='Year', y='Life Expectancy World Bank', hue='Region', data=df_life_exp)\n",
    "plt.title('Time Plot of Life Expectancy Over the Years by Region')\n",
    "plt.show()"
   ]
  },
  {
   "cell_type": "code",
   "execution_count": 38,
   "metadata": {},
   "outputs": [],
   "source": [
    "corrmat_life_exp = df_life_exp.corr(method='pearson', numeric_only=True)"
   ]
  },
  {
   "cell_type": "code",
   "execution_count": 39,
   "metadata": {},
   "outputs": [
    {
     "data": {
      "text/plain": [
       "<Axes: >"
      ]
     },
     "execution_count": 39,
     "metadata": {},
     "output_type": "execute_result"
    },
    {
     "data": {
      "image/png": "[encoded data removed]",
      "text/plain": [
       "<Figure size 640x480 with 2 Axes>"
      ]
     },
     "metadata": {},
     "output_type": "display_data"
    }
   ],
   "source": [
    "sns.heatmap(corrmat_life_exp)"
   ]
  },
  {
   "cell_type": "code",
   "execution_count": null,
   "metadata": {},
   "outputs": [],
   "source": [
    "plt.figure(figsize=(10, 6))\n",
    "sns.barplot(x='Country Code', y='Life Expectancy World Bank', hue='Country Code', data=df_life_exp[(df_life_exp['Year']==2019) & (df_life_exp['Region']=='Europe & Central Asia')])\n",
    "plt.title('Life Expectancy of European & Central Asian Countries')\n",
    "plt.xlabel('Country Code')\n",
    "plt.ylabel('Life Expectancy')\n",
    "plt.xticks(rotation=60)\n",
    "plt.show()"
   ]
  },
  {
   "cell_type": "markdown",
   "metadata": {},
   "source": [
    "### Animals\n",
    "\n",
    "Through the following few code snippets we received some first glimpse on the data set e.g. the column names, types of the attributes and unique values. "
   ]
  },
  {
   "cell_type": "code",
   "execution_count": 24,
   "metadata": {},
   "outputs": [
    {
     "data": {
      "text/html": [
       "<div>\n",
       "<style scoped>\n",
       "    .dataframe tbody tr th:only-of-type {\n",
       "        vertical-align: middle;\n",
       "    }\n",
       "\n",
       "    .dataframe tbody tr th {\n",
       "        vertical-align: top;\n",
       "    }\n",
       "\n",
       "    .dataframe thead th {\n",
       "        text-align: right;\n",
       "    }\n",
       "</style>\n",
       "<table border=\"1\" class=\"dataframe\">\n",
       "  <thead>\n",
       "    <tr style=\"text-align: right;\">\n",
       "      <th></th>\n",
       "      <th>Animal</th>\n",
       "      <th>Height (cm)</th>\n",
       "      <th>Class</th>\n",
       "      <th>Weight (kg)</th>\n",
       "      <th>Color</th>\n",
       "      <th>Lifespan (years)</th>\n",
       "      <th>Diet</th>\n",
       "      <th>Habitat</th>\n",
       "      <th>Predators</th>\n",
       "      <th>Average Speed (km/h)</th>\n",
       "      <th>Countries Found</th>\n",
       "      <th>Conservation Status</th>\n",
       "      <th>Family</th>\n",
       "      <th>Gestation Period (days)</th>\n",
       "      <th>Top Speed (km/h)</th>\n",
       "      <th>Social Structure</th>\n",
       "      <th>Offspring per Birth</th>\n",
       "    </tr>\n",
       "  </thead>\n",
       "  <tbody>\n",
       "    <tr>\n",
       "      <th>0</th>\n",
       "      <td>Aardvark</td>\n",
       "      <td>105-130</td>\n",
       "      <td>mammal</td>\n",
       "      <td>40-65</td>\n",
       "      <td>Grey</td>\n",
       "      <td>20-30</td>\n",
       "      <td>Insectivore</td>\n",
       "      <td>Savannas, Grasslands</td>\n",
       "      <td>Lions, Hyenas</td>\n",
       "      <td>40</td>\n",
       "      <td>Africa</td>\n",
       "      <td>Least Concern</td>\n",
       "      <td>Orycteropodidae</td>\n",
       "      <td>210-240</td>\n",
       "      <td>40</td>\n",
       "      <td>Solitary</td>\n",
       "      <td>1</td>\n",
       "    </tr>\n",
       "    <tr>\n",
       "      <th>1</th>\n",
       "      <td>Aardwolf</td>\n",
       "      <td>40-50</td>\n",
       "      <td>mammal</td>\n",
       "      <td>8-14</td>\n",
       "      <td>Yellow-brown</td>\n",
       "      <td>10-12</td>\n",
       "      <td>Insectivore</td>\n",
       "      <td>Grasslands, Savannas</td>\n",
       "      <td>Lions, Leopards</td>\n",
       "      <td>24-30</td>\n",
       "      <td>Eastern and Southern Africa</td>\n",
       "      <td>Least Concern</td>\n",
       "      <td>Hyaenidae</td>\n",
       "      <td>90</td>\n",
       "      <td>40</td>\n",
       "      <td>Solitary</td>\n",
       "      <td>2-5</td>\n",
       "    </tr>\n",
       "    <tr>\n",
       "      <th>2</th>\n",
       "      <td>African Elephant</td>\n",
       "      <td>270-310</td>\n",
       "      <td>mammal</td>\n",
       "      <td>2700-6000</td>\n",
       "      <td>Grey</td>\n",
       "      <td>60-70</td>\n",
       "      <td>Herbivore</td>\n",
       "      <td>Savannah, Forest</td>\n",
       "      <td>Lions, Hyenas</td>\n",
       "      <td>25</td>\n",
       "      <td>Africa</td>\n",
       "      <td>Vulnerable</td>\n",
       "      <td>Elephantidae</td>\n",
       "      <td>640-660</td>\n",
       "      <td>40</td>\n",
       "      <td>Herd-based</td>\n",
       "      <td>1</td>\n",
       "    </tr>\n",
       "    <tr>\n",
       "      <th>3</th>\n",
       "      <td>African Lion</td>\n",
       "      <td>80-110</td>\n",
       "      <td>mammal</td>\n",
       "      <td>120-250</td>\n",
       "      <td>Tan</td>\n",
       "      <td>10-14</td>\n",
       "      <td>Carnivore</td>\n",
       "      <td>Grasslands, Savannas</td>\n",
       "      <td>Hyenas, Crocodiles</td>\n",
       "      <td>58</td>\n",
       "      <td>Africa</td>\n",
       "      <td>Vulnerable</td>\n",
       "      <td>Felidae</td>\n",
       "      <td>98-105</td>\n",
       "      <td>80</td>\n",
       "      <td>Group-based</td>\n",
       "      <td>2-4 (usually)</td>\n",
       "    </tr>\n",
       "    <tr>\n",
       "      <th>4</th>\n",
       "      <td>African Wild Dog</td>\n",
       "      <td>75-80</td>\n",
       "      <td>mammal</td>\n",
       "      <td>18-36</td>\n",
       "      <td>Multicolored</td>\n",
       "      <td>10-12</td>\n",
       "      <td>Carnivore</td>\n",
       "      <td>Savannahs</td>\n",
       "      <td>Lions, Hyenas</td>\n",
       "      <td>56</td>\n",
       "      <td>Sub-Saharan Africa</td>\n",
       "      <td>Endangered</td>\n",
       "      <td>Canidae</td>\n",
       "      <td>70</td>\n",
       "      <td>56</td>\n",
       "      <td>Group-based</td>\n",
       "      <td>10-12</td>\n",
       "    </tr>\n",
       "  </tbody>\n",
       "</table>\n",
       "</div>"
      ],
      "text/plain": [
       "             Animal Height (cm)   Class Weight (kg)         Color  \\\n",
       "0          Aardvark     105-130  mammal       40-65          Grey   \n",
       "1          Aardwolf       40-50  mammal        8-14  Yellow-brown   \n",
       "2  African Elephant     270-310  mammal   2700-6000          Grey   \n",
       "3      African Lion      80-110  mammal     120-250           Tan   \n",
       "4  African Wild Dog       75-80  mammal       18-36  Multicolored   \n",
       "\n",
       "  Lifespan (years)         Diet               Habitat           Predators  \\\n",
       "0            20-30  Insectivore  Savannas, Grasslands       Lions, Hyenas   \n",
       "1            10-12  Insectivore  Grasslands, Savannas     Lions, Leopards   \n",
       "2            60-70    Herbivore      Savannah, Forest       Lions, Hyenas   \n",
       "3            10-14    Carnivore  Grasslands, Savannas  Hyenas, Crocodiles   \n",
       "4            10-12    Carnivore             Savannahs       Lions, Hyenas   \n",
       "\n",
       "  Average Speed (km/h)              Countries Found Conservation Status  \\\n",
       "0                   40                       Africa       Least Concern   \n",
       "1                24-30  Eastern and Southern Africa       Least Concern   \n",
       "2                   25                       Africa          Vulnerable   \n",
       "3                   58                       Africa          Vulnerable   \n",
       "4                   56           Sub-Saharan Africa          Endangered   \n",
       "\n",
       "            Family Gestation Period (days) Top Speed (km/h) Social Structure  \\\n",
       "0  Orycteropodidae                 210-240               40         Solitary   \n",
       "1        Hyaenidae                      90               40         Solitary   \n",
       "2     Elephantidae                 640-660               40       Herd-based   \n",
       "3          Felidae                  98-105               80      Group-based   \n",
       "4          Canidae                      70               56      Group-based   \n",
       "\n",
       "  Offspring per Birth  \n",
       "0                   1  \n",
       "1                 2-5  \n",
       "2                   1  \n",
       "3       2-4 (usually)  \n",
       "4               10-12  "
      ]
     },
     "metadata": {},
     "output_type": "display_data"
    },
    {
     "name": "stdout",
     "output_type": "stream",
     "text": [
      "<class 'pandas.core.frame.DataFrame'>\n",
      "RangeIndex: 205 entries, 0 to 204\n",
      "Data columns (total 17 columns):\n",
      " #   Column                   Non-Null Count  Dtype \n",
      "---  ------                   --------------  ----- \n",
      " 0   Animal                   205 non-null    object\n",
      " 1   Height (cm)              205 non-null    object\n",
      " 2   Class                    189 non-null    object\n",
      " 3   Weight (kg)              205 non-null    object\n",
      " 4   Color                    205 non-null    object\n",
      " 5   Lifespan (years)         205 non-null    object\n",
      " 6   Diet                     205 non-null    object\n",
      " 7   Habitat                  205 non-null    object\n",
      " 8   Predators                205 non-null    object\n",
      " 9   Average Speed (km/h)     205 non-null    object\n",
      " 10  Countries Found          205 non-null    object\n",
      " 11  Conservation Status      205 non-null    object\n",
      " 12  Family                   205 non-null    object\n",
      " 13  Gestation Period (days)  205 non-null    object\n",
      " 14  Top Speed (km/h)         205 non-null    object\n",
      " 15  Social Structure         205 non-null    object\n",
      " 16  Offspring per Birth      205 non-null    object\n",
      "dtypes: object(17)\n",
      "memory usage: 27.4+ KB\n"
     ]
    },
    {
     "data": {
      "text/plain": [
       "None"
      ]
     },
     "metadata": {},
     "output_type": "display_data"
    }
   ],
   "source": [
    "display(df_animals.head(5))\n",
    "display(df_animals.info(verbose=True))"
   ]
  },
  {
   "cell_type": "code",
   "execution_count": 23,
   "metadata": {},
   "outputs": [
    {
     "data": {
      "text/plain": [
       "array(['Insectivore', 'Herbivore', 'Carnivore', 'Omnivore',\n",
       "       'Carnivore, Piscivore', 'Omnivore, Insectivore',\n",
       "       'Herbivore, Omnivore', 'Filter Feeder', 'Piscivore',\n",
       "       'Insectivore, Herbivore', 'Scavenger', 'Carnivore, Scavenger',\n",
       "       'Nectar, Insects', 'Carnivore, Insectivore', 'Omnivore, Herbivore',\n",
       "       'Herbivore, Insectivore'], dtype=object)"
      ]
     },
     "metadata": {},
     "output_type": "display_data"
    },
    {
     "data": {
      "text/plain": [
       "16"
      ]
     },
     "metadata": {},
     "output_type": "display_data"
    },
    {
     "data": {
      "text/plain": [
       "array(['Solitary', 'Herd-based', 'Group-based', 'Colony-based', 'Flocks',\n",
       "       'Social groups', 'Social pods', 'Pack-based', 'Varies', 'Eusocial'],\n",
       "      dtype=object)"
      ]
     },
     "metadata": {},
     "output_type": "display_data"
    },
    {
     "data": {
      "text/plain": [
       "10"
      ]
     },
     "metadata": {},
     "output_type": "display_data"
    },
    {
     "data": {
      "text/plain": [
       "array(['Least Concern', 'Vulnerable', 'Endangered', 'Not Evaluated',\n",
       "       'Near Threatened', 'Not Applicable', 'Critically Endangered',\n",
       "       'Varies', 'Data Deficient', 'Extinct',\n",
       "       'Extinct (around 58 million years ago)',\n",
       "       'Extinct (around 4,000 years ago)'], dtype=object)"
      ]
     },
     "metadata": {},
     "output_type": "display_data"
    },
    {
     "data": {
      "text/plain": [
       "12"
      ]
     },
     "metadata": {},
     "output_type": "display_data"
    }
   ],
   "source": [
    "display(df_animals[\"Diet\"].unique(), len(df_animals[\"Diet\"].unique()))\n",
    "display(df_animals[\"Social Structure\"].unique(), len(df_animals[\"Social Structure\"].unique()))\n",
    "display(df_animals[\"Conservation Status\"].unique(), len(df_animals[\"Conservation Status\"].unique()))"
   ]
  },
  {
   "cell_type": "markdown",
   "metadata": {},
   "source": [
    "Some questions that arised are why there are more entries than unique animals (so some are doubled), how we will handle multiple habitats and preditors and the numeric values like height or weight which are given in spans. This will be covered in the preprocessing part of the project."
   ]
  },
  {
   "cell_type": "markdown",
   "metadata": {},
   "source": [
    "#### Adding the Class Attribute\n",
    "\n",
    "We want to classify the animals into their major biological groups. Finding a data set that works for us and is open source was quite hard to achieve, therefore, we are adding the class feature through ChatGPT. Although we know that using a generative AI is not the purpose for this exercise it would have been an enormous effort to this manually. However, we will of course go over the classification it gave us and made corrections if necessary. \n",
    "\n",
    "We wanted to be fully transparent with our work process so we explain everything in detail. This is the promt we gave ChatGPT:\n",
    "\n",
    "--- \n",
    "\n",
    "Hello, \n",
    "I have an array with animal names. Return please an arrays with the same structure where the classes of the animals are given, e.g animals[i]=='dog' then class[i]=='mammal'\n",
    "\n",
    "These classes will be used:\n",
    "\n",
    "mammal, bird, reptile, amphibian, fish, arthropod, vertebrate, invertebrate\n",
    "\n",
    "If there is an animals where one class does not fit or you do not recognise this animals use NAN as the class but not as a string like the others and give the explanation why you entered NAN.\n",
    "\n",
    "This is the animal array:\n",
    "\n",
    "['Aardvark', 'Aardwolf', 'African Elephant', 'African Lion',\n",
    "'African Wild Dog', 'Alpine Ibex', 'Amazon Rainforest Frog',\n",
    "'American Bison', 'Anteater', 'Arabian Horse', 'Arabian Oryx',\n",
    "'Arctic Fox', 'Arowana', 'Asian Elephant', 'Atlantic Puffin',\n",
    "'Atlantic Spotted Dolphin', 'Australian Fur Seal', 'Axolotl',\n",
    "'Aye-Aye', \"Baird's Tapir\", 'Bald Eagle', 'Banded Palm Civet',\n",
    "'Barbary Macaque', 'Basking Shark', 'Bearded Dragon', 'Bengal Fox',\n",
    "\n",
    "...\n",
    "\n",
    "'Titanoboa', 'Toco Toucan', 'Tree Kangaroo', 'Tsetse Fly',\n",
    "'Tuatara', 'Tufted Puffin', 'Uakari', 'Vampire Bat', 'Vaquita',\n",
    "'Vulture', 'Walrus', 'Warthog', 'Water Buffalo', 'Western Gorilla',\n",
    "'Western Lowland Gorilla', 'Whale Shark', 'White Rhinoceros',\n",
    "'White Tiger', 'Wild Boar', 'Wildebeest', 'Wolf', 'Wolverine',\n",
    "'Wombat', 'Woodpecker', 'Woolly Mammoth', 'Yak',\n",
    "'Yellow-Eyed Penguin', 'Yeti Crab', 'Zebra', 'Zebra Shark']\n",
    "\n",
    "---\n",
    "\n",
    "ChatGPT got the full array `df_animals[\"Animal\"].unique()`, however, we have shorten it here for readability. Only the following code cell was created by ChatGPT, nothing else."
   ]
  },
  {
   "cell_type": "code",
   "execution_count": 11,
   "metadata": {},
   "outputs": [],
   "source": [
    "def get_animal_classes(animals):\n",
    "    classes = []\n",
    "    animal_classification = {\n",
    "        'mammal': [\n",
    "            'Aardvark', 'Aardwolf', 'African Elephant', 'African Lion', 'African Wild Dog', 'Alpine Ibex',\n",
    "            'American Bison', 'Anteater', 'Arabian Horse', 'Arabian Oryx', 'Arctic Fox', 'Asian Elephant',\n",
    "            'Australian Fur Seal', 'Aye-Aye', \"Baird's Tapir\", 'Banded Palm Civet', 'Barbary Macaque',\n",
    "            'Bengal Fox', 'Bengal Tiger', 'Black Rhinoceros', 'Blue Whale', 'Bonobo', 'Bornean Orangutan',\n",
    "            'Bottlenose Dolphin', 'Boxer Dog', 'Brown Bear', 'Capybara', 'Cheetah', 'Chimpanzee',\n",
    "            \"Coquerel's Sifaka\", 'Dalmatian Dog', 'Dhole', 'Dingo', 'Dugong', 'Eastern Gorilla', 'Echidna',\n",
    "            'Emperor Tamarin', 'European Hedgehog', 'Fennec Fox', 'Flying Fox', 'Fossa', 'Gaur', 'Gerenuk',\n",
    "            'Giant Panda', 'Golden Lion Tamarin', \"Grevy's Zebra\", 'Harp Seal', 'Hippopotamus', 'Iberian Lynx',\n",
    "            'Indri', 'Japanese Macaque', 'Kangaroo Rat', 'Lemur', 'Lion-tailed Macaque', 'Lyrebird', 'Maned Wolf',\n",
    "            'Markhor', 'Meerkat', 'Mountain Gorilla', 'Naked Mole Rat', 'Numbat', 'Okapi', 'Orangutan', 'Pangolin',\n",
    "            'Patagonian Mara', 'Pink Fairy Armadillo', 'Platypus', 'Polar Bear', 'Proboscis Monkey', 'Pronghorn',\n",
    "            'Quokka', 'Red Fox', 'Red Kangaroo', 'Red Panda', 'Rottweiler', 'Saola', 'Serval', 'Siberian Husky',\n",
    "            'Sloth', 'Slow Loris', 'Snow Leopard', 'Spectacled Bear', 'Spider Monkey', 'Spotted Hyena',\n",
    "            'Squirrel Monkey', 'Star-Nosed Mole', 'Sumatran Orangutan', 'Sumatran Rhino', 'Sumatran Rhinoceros',\n",
    "            'Sumatran Tiger', 'Sun Bear', 'Tapir', 'Tarsier', 'Tasmanian Devil', 'Three-Toed Sloth',\n",
    "            'Tibetan Mastiff', 'Tiger', 'Tree Kangaroo', 'Uakari', 'Vampire Bat', 'Vaquita', 'Walrus', 'Warthog',\n",
    "            'Water Buffalo', 'Western Gorilla', 'Western Lowland Gorilla', 'White Rhinoceros', 'White Tiger',\n",
    "            'Wild Boar', 'Wildebeest', 'Wolf', 'Wolverine', 'Wombat', 'Yak', 'Zebra'\n",
    "        ],\n",
    "        'bird': [\n",
    "            'Atlantic Puffin', 'Bald Eagle', 'Blue Jay', 'Blue-Footed Booby', 'Emperor Penguin', 'Galápagos Penguin',\n",
    "            'Galápagos Tortoise', 'Golden Poison Dart Frog', 'Harpy Eagle', 'Hummingbird', 'Kakapo', 'Kiwi',\n",
    "            'Lyrebird', 'Secretary Bird', 'Shoebill', 'Snowy Owl', 'Toco Toucan', 'Tufted Puffin', 'Vulture',\n",
    "            'Woodpecker', 'Yellow-Eyed Penguin'\n",
    "        ],\n",
    "        'reptile': [\n",
    "            'Bearded Dragon', 'Burmese Python', 'Common Snapping Turtle', 'Frilled Lizard', 'Gharial', 'Gila Monster',\n",
    "            'Green Anaconda', 'Green Sea Turtle', 'King Cobra', 'Komodo Dragon', 'Leaf-tailed Gecko',\n",
    "            'Malayan Krait', 'Monitor Lizard', 'Thorny Devil', 'Titanoboa'\n",
    "        ],\n",
    "        'amphibian': [\n",
    "            'Amazon Rainforest Frog', 'Axolotl', 'Chinese Giant Salamander', 'Fire Salamander', 'Glass Frog',\n",
    "            'Red-Eyed Tree Frog'\n",
    "        ],\n",
    "        'fish': [\n",
    "            'Arowana', 'Basking Shark', 'Blobfish', 'Clownfish', 'Coelacanth', 'Electric Eel', 'Goblin Shark',\n",
    "            'Great White Shark', 'Leafy Sea Dragon', 'Pufferfish', 'Shortfin Mako Shark', 'Whale Shark',\n",
    "            'Zebra Shark'\n",
    "        ],\n",
    "        'arthropod': [\n",
    "            'Brazilian Wandering Spider', 'Blue Morpho Butterfly', 'Horseshoe Crab', 'Japanese Giant Hornet',\n",
    "            'Mantis Shrimp', 'Peacock Mantis Shrimp', 'Praying Mantis', 'Tsetse Fly', 'Yeti Crab'\n",
    "        ],\n",
    "        'vertebrate': ['Galliformes'],\n",
    "        'invertebrate': ['Nudibranch', 'Termite']\n",
    "    }\n",
    "\n",
    "    for animal in animals:\n",
    "        classified = False\n",
    "        for animal_class, members in animal_classification.items():\n",
    "            if animal in members:\n",
    "                classes.append(animal_class)\n",
    "                classified = True\n",
    "                break\n",
    "        if not classified:\n",
    "            classes.append(np.nan) \n",
    "\n",
    "    return classes"
   ]
  },
  {
   "cell_type": "code",
   "execution_count": 16,
   "metadata": {},
   "outputs": [],
   "source": [
    "classes = get_animal_classes(df_animals[\"Animal\"])"
   ]
  },
  {
   "cell_type": "code",
   "execution_count": 17,
   "metadata": {},
   "outputs": [
    {
     "data": {
      "text/html": [
       "<div>\n",
       "<style scoped>\n",
       "    .dataframe tbody tr th:only-of-type {\n",
       "        vertical-align: middle;\n",
       "    }\n",
       "\n",
       "    .dataframe tbody tr th {\n",
       "        vertical-align: top;\n",
       "    }\n",
       "\n",
       "    .dataframe thead th {\n",
       "        text-align: right;\n",
       "    }\n",
       "</style>\n",
       "<table border=\"1\" class=\"dataframe\">\n",
       "  <thead>\n",
       "    <tr style=\"text-align: right;\">\n",
       "      <th></th>\n",
       "      <th>Animal</th>\n",
       "      <th>Height (cm)</th>\n",
       "      <th>Class</th>\n",
       "      <th>Weight (kg)</th>\n",
       "      <th>Color</th>\n",
       "      <th>Lifespan (years)</th>\n",
       "      <th>Diet</th>\n",
       "      <th>Habitat</th>\n",
       "      <th>Predators</th>\n",
       "      <th>Average Speed (km/h)</th>\n",
       "      <th>Countries Found</th>\n",
       "      <th>Conservation Status</th>\n",
       "      <th>Family</th>\n",
       "      <th>Gestation Period (days)</th>\n",
       "      <th>Top Speed (km/h)</th>\n",
       "      <th>Social Structure</th>\n",
       "      <th>Offspring per Birth</th>\n",
       "    </tr>\n",
       "  </thead>\n",
       "  <tbody>\n",
       "    <tr>\n",
       "      <th>0</th>\n",
       "      <td>Aardvark</td>\n",
       "      <td>105-130</td>\n",
       "      <td>mammal</td>\n",
       "      <td>40-65</td>\n",
       "      <td>Grey</td>\n",
       "      <td>20-30</td>\n",
       "      <td>Insectivore</td>\n",
       "      <td>Savannas, Grasslands</td>\n",
       "      <td>Lions, Hyenas</td>\n",
       "      <td>40</td>\n",
       "      <td>Africa</td>\n",
       "      <td>Least Concern</td>\n",
       "      <td>Orycteropodidae</td>\n",
       "      <td>210-240</td>\n",
       "      <td>40</td>\n",
       "      <td>Solitary</td>\n",
       "      <td>1</td>\n",
       "    </tr>\n",
       "    <tr>\n",
       "      <th>1</th>\n",
       "      <td>Aardwolf</td>\n",
       "      <td>40-50</td>\n",
       "      <td>mammal</td>\n",
       "      <td>8-14</td>\n",
       "      <td>Yellow-brown</td>\n",
       "      <td>10-12</td>\n",
       "      <td>Insectivore</td>\n",
       "      <td>Grasslands, Savannas</td>\n",
       "      <td>Lions, Leopards</td>\n",
       "      <td>24-30</td>\n",
       "      <td>Eastern and Southern Africa</td>\n",
       "      <td>Least Concern</td>\n",
       "      <td>Hyaenidae</td>\n",
       "      <td>90</td>\n",
       "      <td>40</td>\n",
       "      <td>Solitary</td>\n",
       "      <td>2-5</td>\n",
       "    </tr>\n",
       "    <tr>\n",
       "      <th>2</th>\n",
       "      <td>African Elephant</td>\n",
       "      <td>270-310</td>\n",
       "      <td>mammal</td>\n",
       "      <td>2700-6000</td>\n",
       "      <td>Grey</td>\n",
       "      <td>60-70</td>\n",
       "      <td>Herbivore</td>\n",
       "      <td>Savannah, Forest</td>\n",
       "      <td>Lions, Hyenas</td>\n",
       "      <td>25</td>\n",
       "      <td>Africa</td>\n",
       "      <td>Vulnerable</td>\n",
       "      <td>Elephantidae</td>\n",
       "      <td>640-660</td>\n",
       "      <td>40</td>\n",
       "      <td>Herd-based</td>\n",
       "      <td>1</td>\n",
       "    </tr>\n",
       "    <tr>\n",
       "      <th>3</th>\n",
       "      <td>African Lion</td>\n",
       "      <td>80-110</td>\n",
       "      <td>mammal</td>\n",
       "      <td>120-250</td>\n",
       "      <td>Tan</td>\n",
       "      <td>10-14</td>\n",
       "      <td>Carnivore</td>\n",
       "      <td>Grasslands, Savannas</td>\n",
       "      <td>Hyenas, Crocodiles</td>\n",
       "      <td>58</td>\n",
       "      <td>Africa</td>\n",
       "      <td>Vulnerable</td>\n",
       "      <td>Felidae</td>\n",
       "      <td>98-105</td>\n",
       "      <td>80</td>\n",
       "      <td>Group-based</td>\n",
       "      <td>2-4 (usually)</td>\n",
       "    </tr>\n",
       "    <tr>\n",
       "      <th>4</th>\n",
       "      <td>African Wild Dog</td>\n",
       "      <td>75-80</td>\n",
       "      <td>mammal</td>\n",
       "      <td>18-36</td>\n",
       "      <td>Multicolored</td>\n",
       "      <td>10-12</td>\n",
       "      <td>Carnivore</td>\n",
       "      <td>Savannahs</td>\n",
       "      <td>Lions, Hyenas</td>\n",
       "      <td>56</td>\n",
       "      <td>Sub-Saharan Africa</td>\n",
       "      <td>Endangered</td>\n",
       "      <td>Canidae</td>\n",
       "      <td>70</td>\n",
       "      <td>56</td>\n",
       "      <td>Group-based</td>\n",
       "      <td>10-12</td>\n",
       "    </tr>\n",
       "  </tbody>\n",
       "</table>\n",
       "</div>"
      ],
      "text/plain": [
       "             Animal Height (cm)   Class Weight (kg)         Color  \\\n",
       "0          Aardvark     105-130  mammal       40-65          Grey   \n",
       "1          Aardwolf       40-50  mammal        8-14  Yellow-brown   \n",
       "2  African Elephant     270-310  mammal   2700-6000          Grey   \n",
       "3      African Lion      80-110  mammal     120-250           Tan   \n",
       "4  African Wild Dog       75-80  mammal       18-36  Multicolored   \n",
       "\n",
       "  Lifespan (years)         Diet               Habitat           Predators  \\\n",
       "0            20-30  Insectivore  Savannas, Grasslands       Lions, Hyenas   \n",
       "1            10-12  Insectivore  Grasslands, Savannas     Lions, Leopards   \n",
       "2            60-70    Herbivore      Savannah, Forest       Lions, Hyenas   \n",
       "3            10-14    Carnivore  Grasslands, Savannas  Hyenas, Crocodiles   \n",
       "4            10-12    Carnivore             Savannahs       Lions, Hyenas   \n",
       "\n",
       "  Average Speed (km/h)              Countries Found Conservation Status  \\\n",
       "0                   40                       Africa       Least Concern   \n",
       "1                24-30  Eastern and Southern Africa       Least Concern   \n",
       "2                   25                       Africa          Vulnerable   \n",
       "3                   58                       Africa          Vulnerable   \n",
       "4                   56           Sub-Saharan Africa          Endangered   \n",
       "\n",
       "            Family Gestation Period (days) Top Speed (km/h) Social Structure  \\\n",
       "0  Orycteropodidae                 210-240               40         Solitary   \n",
       "1        Hyaenidae                      90               40         Solitary   \n",
       "2     Elephantidae                 640-660               40       Herd-based   \n",
       "3          Felidae                  98-105               80      Group-based   \n",
       "4          Canidae                      70               56      Group-based   \n",
       "\n",
       "  Offspring per Birth  \n",
       "0                   1  \n",
       "1                 2-5  \n",
       "2                   1  \n",
       "3       2-4 (usually)  \n",
       "4               10-12  "
      ]
     },
     "metadata": {},
     "output_type": "display_data"
    }
   ],
   "source": [
    "df_animals.insert(2, \"Class\", classes, True)\n",
    "\n",
    "display(df_animals.head(5))"
   ]
  },
  {
   "cell_type": "markdown",
   "metadata": {},
   "source": [
    "### Missing Values\n",
    "\n",
    "Now we will take a look at the missing values the data set might have."
   ]
  },
  {
   "cell_type": "code",
   "execution_count": 18,
   "metadata": {},
   "outputs": [
    {
     "data": {
      "text/plain": [
       "Animal                      0\n",
       "Height (cm)                 0\n",
       "Class                      16\n",
       "Weight (kg)                 0\n",
       "Color                       0\n",
       "Lifespan (years)            0\n",
       "Diet                        0\n",
       "Habitat                     0\n",
       "Predators                   0\n",
       "Average Speed (km/h)        0\n",
       "Countries Found             0\n",
       "Conservation Status         0\n",
       "Family                      0\n",
       "Gestation Period (days)     0\n",
       "Top Speed (km/h)            0\n",
       "Social Structure            0\n",
       "Offspring per Birth         0\n",
       "dtype: int64"
      ]
     },
     "execution_count": 18,
     "metadata": {},
     "output_type": "execute_result"
    },
    {
     "data": {
      "image/png": "[encoded data removed]",
      "text/plain": [
       "<Figure size 2500x1000 with 2 Axes>"
      ]
     },
     "metadata": {},
     "output_type": "display_data"
    }
   ],
   "source": [
    "msno.matrix(df_animals)\n",
    "df_animals.isna().sum()"
   ]
  },
  {
   "cell_type": "code",
   "execution_count": 21,
   "metadata": {},
   "outputs": [
    {
     "data": {
      "text/plain": [
       "15     Atlantic Spotted Dolphin\n",
       "34          Blue-Ringed Octopus\n",
       "48               Common Dolphin\n",
       "66           GalÃ¡pagos Penguin\n",
       "73        Giant Pacific Octopus\n",
       "87                      Hagfish\n",
       "88                      Hagfish\n",
       "94               Humpback Whale\n",
       "112                     Manatee\n",
       "113                    Mandrill\n",
       "121                     Narwhal\n",
       "134                       Potoo\n",
       "156                 Sperm Whale\n",
       "169             Tasmanian Tiger\n",
       "179                     Tuatara\n",
       "199              Woolly Mammoth\n",
       "Name: Animal, dtype: object"
      ]
     },
     "execution_count": 21,
     "metadata": {},
     "output_type": "execute_result"
    }
   ],
   "source": [
    "df_animals[df_animals[\"Class\"].isna()][\"Animal\"]"
   ]
  },
  {
   "cell_type": "markdown",
   "metadata": {},
   "source": [
    "This can be an easy fix by just looking up their class and adding it to the code above. This will be done in the preprocessing part of the project.\n",
    "\n",
    "Another problem however is that although it looks like the original data frame has no null values, the creator just filled them in with other words. The below code snippet is an example."
   ]
  },
  {
   "cell_type": "code",
   "execution_count": 28,
   "metadata": {},
   "outputs": [
    {
     "data": {
      "text/html": [
       "<div>\n",
       "<style scoped>\n",
       "    .dataframe tbody tr th:only-of-type {\n",
       "        vertical-align: middle;\n",
       "    }\n",
       "\n",
       "    .dataframe tbody tr th {\n",
       "        vertical-align: top;\n",
       "    }\n",
       "\n",
       "    .dataframe thead th {\n",
       "        text-align: right;\n",
       "    }\n",
       "</style>\n",
       "<table border=\"1\" class=\"dataframe\">\n",
       "  <thead>\n",
       "    <tr style=\"text-align: right;\">\n",
       "      <th></th>\n",
       "      <th>Animal</th>\n",
       "      <th>Height (cm)</th>\n",
       "      <th>Class</th>\n",
       "      <th>Weight (kg)</th>\n",
       "      <th>Color</th>\n",
       "      <th>Lifespan (years)</th>\n",
       "      <th>Diet</th>\n",
       "      <th>Habitat</th>\n",
       "      <th>Predators</th>\n",
       "      <th>Average Speed (km/h)</th>\n",
       "      <th>Countries Found</th>\n",
       "      <th>Conservation Status</th>\n",
       "      <th>Family</th>\n",
       "      <th>Gestation Period (days)</th>\n",
       "      <th>Top Speed (km/h)</th>\n",
       "      <th>Social Structure</th>\n",
       "      <th>Offspring per Birth</th>\n",
       "    </tr>\n",
       "  </thead>\n",
       "  <tbody>\n",
       "    <tr>\n",
       "      <th>6</th>\n",
       "      <td>Amazon Rainforest Frog</td>\n",
       "      <td>2-13</td>\n",
       "      <td>amphibian</td>\n",
       "      <td>Up to 0.5</td>\n",
       "      <td>Various</td>\n",
       "      <td>4-17</td>\n",
       "      <td>Insectivore</td>\n",
       "      <td>Amazon Rainforest</td>\n",
       "      <td>Birds, Snakes</td>\n",
       "      <td>0.1-1</td>\n",
       "      <td>Amazon Rainforest</td>\n",
       "      <td>Not Evaluated</td>\n",
       "      <td>Dendrobatidae</td>\n",
       "      <td>10-15</td>\n",
       "      <td>0.8</td>\n",
       "      <td>Solitary</td>\n",
       "      <td>Up to 40</td>\n",
       "    </tr>\n",
       "    <tr>\n",
       "      <th>12</th>\n",
       "      <td>Arowana</td>\n",
       "      <td>Up to 120</td>\n",
       "      <td>fish</td>\n",
       "      <td>Up to 6.7</td>\n",
       "      <td>Silver, Gold, Green</td>\n",
       "      <td>10-20</td>\n",
       "      <td>Carnivore, Piscivore</td>\n",
       "      <td>Freshwater Rivers, Lakes</td>\n",
       "      <td>Birds, Larger Fish</td>\n",
       "      <td>16-32</td>\n",
       "      <td>South America, Asia</td>\n",
       "      <td>Not Evaluated</td>\n",
       "      <td>Osteoglossidae</td>\n",
       "      <td>Not Applicable</td>\n",
       "      <td>32</td>\n",
       "      <td>Solitary</td>\n",
       "      <td>Not Applicable</td>\n",
       "    </tr>\n",
       "    <tr>\n",
       "      <th>24</th>\n",
       "      <td>Bearded Dragon</td>\n",
       "      <td>Up to 60</td>\n",
       "      <td>reptile</td>\n",
       "      <td>Up to 600</td>\n",
       "      <td>Various</td>\n",
       "      <td>6-15</td>\n",
       "      <td>Omnivore</td>\n",
       "      <td>Deserts, Woodlands</td>\n",
       "      <td>Birds, Snakes</td>\n",
       "      <td>40-64</td>\n",
       "      <td>Australia</td>\n",
       "      <td>Not Evaluated</td>\n",
       "      <td>Agamidae</td>\n",
       "      <td>40-70</td>\n",
       "      <td>40-64</td>\n",
       "      <td>Solitary</td>\n",
       "      <td>Up to 24</td>\n",
       "    </tr>\n",
       "    <tr>\n",
       "      <th>31</th>\n",
       "      <td>Blue Morpho Butterfly</td>\n",
       "      <td>Up to 15</td>\n",
       "      <td>arthropod</td>\n",
       "      <td>Up to 0.028</td>\n",
       "      <td>Blue</td>\n",
       "      <td>1-2 weeks</td>\n",
       "      <td>Herbivore</td>\n",
       "      <td>Rainforests</td>\n",
       "      <td>Birds, Bats</td>\n",
       "      <td>Not Applicable</td>\n",
       "      <td>Central and South America</td>\n",
       "      <td>Not Evaluated</td>\n",
       "      <td>Nymphalidae</td>\n",
       "      <td>Not Applicable</td>\n",
       "      <td>Not Applicable</td>\n",
       "      <td>Solitary</td>\n",
       "      <td>Not Applicable</td>\n",
       "    </tr>\n",
       "    <tr>\n",
       "      <th>39</th>\n",
       "      <td>Brazilian Wandering Spider</td>\n",
       "      <td>Up to 5</td>\n",
       "      <td>arthropod</td>\n",
       "      <td>Up to 0.006</td>\n",
       "      <td>Brown</td>\n",
       "      <td>1-2</td>\n",
       "      <td>Carnivore</td>\n",
       "      <td>Forests</td>\n",
       "      <td>Birds, Mammals</td>\n",
       "      <td>Not Applicable</td>\n",
       "      <td>South and Central America</td>\n",
       "      <td>Not Evaluated</td>\n",
       "      <td>Ctenidae</td>\n",
       "      <td>21-35</td>\n",
       "      <td>Not Applicable</td>\n",
       "      <td>Solitary</td>\n",
       "      <td>Up to 1,000</td>\n",
       "    </tr>\n",
       "    <tr>\n",
       "      <th>46</th>\n",
       "      <td>Clownfish</td>\n",
       "      <td>7-10</td>\n",
       "      <td>fish</td>\n",
       "      <td>50-300</td>\n",
       "      <td>Orange</td>\n",
       "      <td>6-10</td>\n",
       "      <td>Omnivore</td>\n",
       "      <td>Coral Reefs</td>\n",
       "      <td>Larger Fish, Anemones</td>\n",
       "      <td>8</td>\n",
       "      <td>Indian, Pacific Oceans</td>\n",
       "      <td>Not Evaluated</td>\n",
       "      <td>Pomacentridae</td>\n",
       "      <td>6-10</td>\n",
       "      <td>1.6</td>\n",
       "      <td>Group-based</td>\n",
       "      <td>Up to 1,000</td>\n",
       "    </tr>\n",
       "    <tr>\n",
       "      <th>47</th>\n",
       "      <td>Coelacanth</td>\n",
       "      <td>Up to 200</td>\n",
       "      <td>fish</td>\n",
       "      <td>Up to 90</td>\n",
       "      <td>Brown, Grey</td>\n",
       "      <td>Up to 60</td>\n",
       "      <td>Carnivore</td>\n",
       "      <td>Deep-sea, Caves</td>\n",
       "      <td>Sharks, Humans</td>\n",
       "      <td>1.6</td>\n",
       "      <td>Western Indian Ocean</td>\n",
       "      <td>Not Evaluated</td>\n",
       "      <td>Latimeriidae</td>\n",
       "      <td>260-330 million years</td>\n",
       "      <td>Not Applicable</td>\n",
       "      <td>Solitary</td>\n",
       "      <td>Not Applicable</td>\n",
       "    </tr>\n",
       "    <tr>\n",
       "      <th>97</th>\n",
       "      <td>Japanese Giant Hornet</td>\n",
       "      <td>35-55</td>\n",
       "      <td>arthropod</td>\n",
       "      <td>Up to 6</td>\n",
       "      <td>Yellow, Black</td>\n",
       "      <td>3-6</td>\n",
       "      <td>Carnivore, Insectivore</td>\n",
       "      <td>Forests, Mountains</td>\n",
       "      <td>Birds, Bees</td>\n",
       "      <td>40-58</td>\n",
       "      <td>Japan, China, Southeast Asia</td>\n",
       "      <td>Not Evaluated</td>\n",
       "      <td>Vespidae</td>\n",
       "      <td>1 week</td>\n",
       "      <td>Not Applicable</td>\n",
       "      <td>Colony-based</td>\n",
       "      <td>Thousands</td>\n",
       "    </tr>\n",
       "    <tr>\n",
       "      <th>104</th>\n",
       "      <td>Leaf-tailed Gecko</td>\n",
       "      <td>Up to 25</td>\n",
       "      <td>reptile</td>\n",
       "      <td>Up to 250</td>\n",
       "      <td>Various</td>\n",
       "      <td>10-15</td>\n",
       "      <td>Insectivore</td>\n",
       "      <td>Rainforests, Madagascar</td>\n",
       "      <td>Birds, Snakes</td>\n",
       "      <td>0.8-1</td>\n",
       "      <td>Madagascar</td>\n",
       "      <td>Not Evaluated</td>\n",
       "      <td>Gekkonidae</td>\n",
       "      <td>45-60</td>\n",
       "      <td>Not Applicable</td>\n",
       "      <td>Solitary</td>\n",
       "      <td>1-2</td>\n",
       "    </tr>\n",
       "    <tr>\n",
       "      <th>115</th>\n",
       "      <td>Mantis Shrimp</td>\n",
       "      <td>Up to 30</td>\n",
       "      <td>arthropod</td>\n",
       "      <td>Up to 2.7</td>\n",
       "      <td>Various</td>\n",
       "      <td>Up to 20</td>\n",
       "      <td>Carnivore</td>\n",
       "      <td>Coral Reefs</td>\n",
       "      <td>Larger Fish</td>\n",
       "      <td>30-50</td>\n",
       "      <td>Oceans worldwide</td>\n",
       "      <td>Not Evaluated</td>\n",
       "      <td>Stomatopoda</td>\n",
       "      <td>20-30</td>\n",
       "      <td>30-50</td>\n",
       "      <td>Solitary</td>\n",
       "      <td>Hundreds</td>\n",
       "    </tr>\n",
       "    <tr>\n",
       "      <th>122</th>\n",
       "      <td>Nudibranch</td>\n",
       "      <td>Up to 30</td>\n",
       "      <td>invertebrate</td>\n",
       "      <td>Up to 1</td>\n",
       "      <td>Various</td>\n",
       "      <td>Up to 10</td>\n",
       "      <td>Carnivore</td>\n",
       "      <td>Oceans, Coral Reefs</td>\n",
       "      <td>Sea Anemones, Predatory Fish</td>\n",
       "      <td>Not Applicable</td>\n",
       "      <td>Oceans worldwide</td>\n",
       "      <td>Not Evaluated</td>\n",
       "      <td>Nudibranchia</td>\n",
       "      <td>Not Applicable</td>\n",
       "      <td>Not Applicable</td>\n",
       "      <td>Solitary</td>\n",
       "      <td>Not Applicable</td>\n",
       "    </tr>\n",
       "    <tr>\n",
       "      <th>129</th>\n",
       "      <td>Peacock Mantis Shrimp</td>\n",
       "      <td>Up to 18</td>\n",
       "      <td>arthropod</td>\n",
       "      <td>Up to 0.4</td>\n",
       "      <td>Various</td>\n",
       "      <td>Up to 20</td>\n",
       "      <td>Carnivore</td>\n",
       "      <td>Coral Reefs</td>\n",
       "      <td>Fish, Crustaceans</td>\n",
       "      <td>72</td>\n",
       "      <td>Indo-Pacific region</td>\n",
       "      <td>Not Evaluated</td>\n",
       "      <td>Gonodactylidae</td>\n",
       "      <td>6-9 weeks</td>\n",
       "      <td>72</td>\n",
       "      <td>Solitary</td>\n",
       "      <td>Up to 10,000</td>\n",
       "    </tr>\n",
       "    <tr>\n",
       "      <th>135</th>\n",
       "      <td>Praying Mantis</td>\n",
       "      <td>Up to 15</td>\n",
       "      <td>arthropod</td>\n",
       "      <td>0.02-0.5</td>\n",
       "      <td>Various</td>\n",
       "      <td>6-12</td>\n",
       "      <td>Carnivore</td>\n",
       "      <td>Worldwide</td>\n",
       "      <td>Birds, Spiders</td>\n",
       "      <td>0.5-0.7</td>\n",
       "      <td>Worldwide</td>\n",
       "      <td>Not Evaluated</td>\n",
       "      <td>Mantidae</td>\n",
       "      <td>10-60</td>\n",
       "      <td>Not Applicable</td>\n",
       "      <td>Solitary</td>\n",
       "      <td>Up to 400</td>\n",
       "    </tr>\n",
       "    <tr>\n",
       "      <th>138</th>\n",
       "      <td>Pufferfish</td>\n",
       "      <td>Up to 60</td>\n",
       "      <td>fish</td>\n",
       "      <td>Up to 0.8</td>\n",
       "      <td>Various</td>\n",
       "      <td>3-10</td>\n",
       "      <td>Carnivore</td>\n",
       "      <td>Tropical and Subtropical</td>\n",
       "      <td>Sharks, Humans</td>\n",
       "      <td>8</td>\n",
       "      <td>Oceans worldwide</td>\n",
       "      <td>Not Evaluated</td>\n",
       "      <td>Tetraodontidae</td>\n",
       "      <td>Not Applicable</td>\n",
       "      <td>8</td>\n",
       "      <td>Solitary</td>\n",
       "      <td>Not Applicable</td>\n",
       "    </tr>\n",
       "    <tr>\n",
       "      <th>202</th>\n",
       "      <td>Yeti Crab</td>\n",
       "      <td>Up to 15</td>\n",
       "      <td>arthropod</td>\n",
       "      <td>Up to 0.5</td>\n",
       "      <td>White, Hairy</td>\n",
       "      <td>Up to 20</td>\n",
       "      <td>Omnivore</td>\n",
       "      <td>Hydrothermal Vents</td>\n",
       "      <td>Not Applicable</td>\n",
       "      <td>Not Applicable</td>\n",
       "      <td>Pacific Ocean</td>\n",
       "      <td>Not Evaluated</td>\n",
       "      <td>Kiwaidae</td>\n",
       "      <td>Not Applicable</td>\n",
       "      <td>Not Applicable</td>\n",
       "      <td>Solitary</td>\n",
       "      <td>Not Applicable</td>\n",
       "    </tr>\n",
       "  </tbody>\n",
       "</table>\n",
       "</div>"
      ],
      "text/plain": [
       "                         Animal Height (cm)         Class  Weight (kg)  \\\n",
       "6        Amazon Rainforest Frog        2-13     amphibian    Up to 0.5   \n",
       "12                      Arowana   Up to 120          fish    Up to 6.7   \n",
       "24               Bearded Dragon    Up to 60       reptile    Up to 600   \n",
       "31        Blue Morpho Butterfly    Up to 15     arthropod  Up to 0.028   \n",
       "39   Brazilian Wandering Spider     Up to 5     arthropod  Up to 0.006   \n",
       "46                    Clownfish        7-10          fish       50-300   \n",
       "47                   Coelacanth   Up to 200          fish     Up to 90   \n",
       "97        Japanese Giant Hornet       35-55     arthropod      Up to 6   \n",
       "104           Leaf-tailed Gecko    Up to 25       reptile    Up to 250   \n",
       "115               Mantis Shrimp    Up to 30     arthropod    Up to 2.7   \n",
       "122                  Nudibranch    Up to 30  invertebrate      Up to 1   \n",
       "129       Peacock Mantis Shrimp    Up to 18     arthropod    Up to 0.4   \n",
       "135              Praying Mantis    Up to 15     arthropod     0.02-0.5   \n",
       "138                  Pufferfish    Up to 60          fish    Up to 0.8   \n",
       "202                   Yeti Crab    Up to 15     arthropod    Up to 0.5   \n",
       "\n",
       "                   Color Lifespan (years)                    Diet  \\\n",
       "6                Various             4-17             Insectivore   \n",
       "12   Silver, Gold, Green            10-20    Carnivore, Piscivore   \n",
       "24               Various             6-15                Omnivore   \n",
       "31                  Blue        1-2 weeks               Herbivore   \n",
       "39                 Brown              1-2               Carnivore   \n",
       "46                Orange             6-10                Omnivore   \n",
       "47           Brown, Grey         Up to 60               Carnivore   \n",
       "97         Yellow, Black              3-6  Carnivore, Insectivore   \n",
       "104              Various            10-15             Insectivore   \n",
       "115              Various         Up to 20               Carnivore   \n",
       "122              Various         Up to 10               Carnivore   \n",
       "129              Various         Up to 20               Carnivore   \n",
       "135              Various             6-12               Carnivore   \n",
       "138              Various             3-10               Carnivore   \n",
       "202         White, Hairy         Up to 20                Omnivore   \n",
       "\n",
       "                      Habitat                     Predators  \\\n",
       "6           Amazon Rainforest                 Birds, Snakes   \n",
       "12   Freshwater Rivers, Lakes            Birds, Larger Fish   \n",
       "24         Deserts, Woodlands                 Birds, Snakes   \n",
       "31                Rainforests                   Birds, Bats   \n",
       "39                    Forests                Birds, Mammals   \n",
       "46                Coral Reefs         Larger Fish, Anemones   \n",
       "47            Deep-sea, Caves                Sharks, Humans   \n",
       "97         Forests, Mountains                   Birds, Bees   \n",
       "104   Rainforests, Madagascar                 Birds, Snakes   \n",
       "115               Coral Reefs                   Larger Fish   \n",
       "122       Oceans, Coral Reefs  Sea Anemones, Predatory Fish   \n",
       "129               Coral Reefs             Fish, Crustaceans   \n",
       "135                 Worldwide                Birds, Spiders   \n",
       "138  Tropical and Subtropical                Sharks, Humans   \n",
       "202        Hydrothermal Vents                Not Applicable   \n",
       "\n",
       "    Average Speed (km/h)               Countries Found Conservation Status  \\\n",
       "6                  0.1-1             Amazon Rainforest       Not Evaluated   \n",
       "12                 16-32           South America, Asia       Not Evaluated   \n",
       "24                 40-64                     Australia       Not Evaluated   \n",
       "31        Not Applicable     Central and South America       Not Evaluated   \n",
       "39        Not Applicable     South and Central America       Not Evaluated   \n",
       "46                     8        Indian, Pacific Oceans       Not Evaluated   \n",
       "47                   1.6          Western Indian Ocean       Not Evaluated   \n",
       "97                 40-58  Japan, China, Southeast Asia       Not Evaluated   \n",
       "104                0.8-1                    Madagascar       Not Evaluated   \n",
       "115                30-50              Oceans worldwide       Not Evaluated   \n",
       "122       Not Applicable              Oceans worldwide       Not Evaluated   \n",
       "129                   72           Indo-Pacific region       Not Evaluated   \n",
       "135              0.5-0.7                     Worldwide       Not Evaluated   \n",
       "138                    8              Oceans worldwide       Not Evaluated   \n",
       "202       Not Applicable                 Pacific Ocean       Not Evaluated   \n",
       "\n",
       "             Family Gestation Period (days) Top Speed (km/h) Social Structure  \\\n",
       "6     Dendrobatidae                   10-15              0.8         Solitary   \n",
       "12   Osteoglossidae          Not Applicable               32         Solitary   \n",
       "24         Agamidae                   40-70            40-64         Solitary   \n",
       "31      Nymphalidae          Not Applicable   Not Applicable         Solitary   \n",
       "39         Ctenidae                   21-35   Not Applicable         Solitary   \n",
       "46    Pomacentridae                    6-10              1.6      Group-based   \n",
       "47     Latimeriidae   260-330 million years   Not Applicable         Solitary   \n",
       "97         Vespidae                  1 week   Not Applicable     Colony-based   \n",
       "104      Gekkonidae                   45-60   Not Applicable         Solitary   \n",
       "115     Stomatopoda                   20-30            30-50         Solitary   \n",
       "122    Nudibranchia          Not Applicable   Not Applicable         Solitary   \n",
       "129  Gonodactylidae               6-9 weeks               72         Solitary   \n",
       "135        Mantidae                   10-60   Not Applicable         Solitary   \n",
       "138  Tetraodontidae          Not Applicable                8         Solitary   \n",
       "202        Kiwaidae          Not Applicable   Not Applicable         Solitary   \n",
       "\n",
       "    Offspring per Birth  \n",
       "6              Up to 40  \n",
       "12       Not Applicable  \n",
       "24             Up to 24  \n",
       "31       Not Applicable  \n",
       "39          Up to 1,000  \n",
       "46          Up to 1,000  \n",
       "47       Not Applicable  \n",
       "97            Thousands  \n",
       "104                 1-2  \n",
       "115            Hundreds  \n",
       "122      Not Applicable  \n",
       "129        Up to 10,000  \n",
       "135           Up to 400  \n",
       "138      Not Applicable  \n",
       "202      Not Applicable  "
      ]
     },
     "execution_count": 28,
     "metadata": {},
     "output_type": "execute_result"
    }
   ],
   "source": [
    "df_animals[df_animals['Conservation Status'].str.contains(\"Not Evaluated\")]"
   ]
  },
  {
   "cell_type": "markdown",
   "metadata": {},
   "source": [
    "For those we will figure a method out depending on the feature we are working with and what makes sense to use."
   ]
  },
  {
   "cell_type": "markdown",
   "metadata": {},
   "source": [
    "### Visualizations\n",
    "\n",
    "Are not possible at the moment since we only have objects at the moment. After the preprocessing part we can make ourselve a better picture of our data."
   ]
  }
 ],
 "metadata": {
  "kernelspec": {
   "display_name": "Python myenv",
   "language": "python",
   "name": "mein-venv-name"
  },
  "language_info": {
   "codemirror_mode": {
    "name": "ipython",
    "version": 3
   },
   "file_extension": ".py",
   "mimetype": "text/x-python",
   "name": "python",
   "nbconvert_exporter": "python",
   "pygments_lexer": "ipython3",
   "version": "3.12.5"
  }
 },
 "nbformat": 4,
 "nbformat_minor": 2
}
