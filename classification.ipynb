{
 "cells": [
  {
   "cell_type": "markdown",
   "metadata": {},
   "source": [
    "# Machine Learning \n",
    "## Assignment 1 - Classification\n",
    "\n",
    "Group 18 Members:\n",
    "\n",
    "- Clara Pichler, 11917694\n",
    "- Hannah Knapp, 11901857 \n",
    "- Sibel Toprakkiran, 09426341\n",
    "\n",
    "### Overview\n",
    "\n",
    "1. Introduction\n",
    "- Used Data Sets\n",
    "- Classifiers\n",
    "- Requirements & Dependencies\n",
    "\n",
    "2. Preprocessing\n",
    "- Loading in the Data Sets\n",
    "- Gym Memebers Exercise Tracking\n",
    "- Abalone\n",
    "- Amazon Reviews\n",
    "- Congressional Voting\n",
    "\n",
    "3. Classification\n",
    "- Gym Memebers Exercise Tracking\n",
    "- Abalone\n",
    "- Amazon Reviews\n",
    "- Congressional Voting\n",
    "\n",
    "4. Analysis of Performance "
   ]
  },
  {
   "cell_type": "markdown",
   "metadata": {},
   "source": [
    "### Used Datasets\n",
    "\n",
    "__Gym Member Exercise Tracking Data set:__\n",
    "- _content_: A detailed overview of gym members' exercise routines, physical attributes, and fitness metrics\n",
    "- _source_: https://www.kaggle.com/datasets/valakhorasani/gym-members-exercise-dataset \n",
    "\n",
    "__Abalone Data set:__\n",
    "- _content_: Physical measurements of abalones\n",
    "- _source_: https://archive.ics.uci.edu/dataset/1/abalone\n",
    "\n",
    "__Amazon Reviews Data set:__\n",
    "- _content_: \n",
    "- _source_: \n",
    "\n",
    "__Congressional Voting Data set:__\n",
    "- _content_: \n",
    "- _source_: \n"
   ]
  },
  {
   "cell_type": "markdown",
   "metadata": {},
   "source": [
    "## Introduction"
   ]
  },
  {
   "cell_type": "markdown",
   "metadata": {},
   "source": [
    "### Used Classifiers\n",
    "\n",
    "Classification is a natural language processing task used in machine learning to assign labels to data items. With an input training dataset, classification algorithms can identify categories and classify subsequent data accordingly. So they essentially identify and recognize patterns in the training data and use the findings to find similar patterns in future data. \n",
    "\n",
    "Some Classification methods:\n",
    "- Support vector machines \n",
    "- K-Nearest Neighbours\n",
    "- Decision trees\n",
    "- Artificial neural networks\n",
    "- Logistic regression\n",
    "- Naive Bayes\n",
    "- Linear Discriminant Analysis (LDA)\n",
    "\n",
    "I would suggest SVM, KNN and maybe Decision trees or Naive Bayes. Simple yet effective, but I am open for other suggestions.\n",
    "\n",
    "Some resources:\n",
    "- https://www.akkio.com/post/5-types-of-machine-learning-classification-algorithms\n",
    "- the script of multivariate statistics in the folder `other_material`\n",
    "- \n",
    "\n"
   ]
  },
  {
   "cell_type": "markdown",
   "metadata": {},
   "source": [
    "\n",
    "### Requirements & Dependencies\n",
    "\n",
    "This project was created using Python 3.12.5 The exact versions of the dependencies can be installed with the following command."
   ]
  },
  {
   "cell_type": "code",
   "execution_count": null,
   "metadata": {
    "vscode": {
     "languageId": "shellscript"
    }
   },
   "outputs": [],
   "source": [
    "%pip install -r requirements.txt -q"
   ]
  },
  {
   "cell_type": "code",
   "execution_count": 3,
   "metadata": {},
   "outputs": [],
   "source": [
    "import pandas as pd\n",
    "import numpy as np\n",
    "import seaborn as sns\n",
    "import missingno as msno\n",
    "import matplotlib.pyplot as plt\n",
    "from sklearn.impute import SimpleImputer"
   ]
  },
  {
   "cell_type": "markdown",
   "metadata": {},
   "source": [
    "### Loading in the Data Sets\n",
    "\n",
    "After downloading all the data frames, which are all saved in the folder `data`, we loaded each of them in by using `pandas`.\n"
   ]
  },
  {
   "cell_type": "code",
   "execution_count": 4,
   "metadata": {},
   "outputs": [],
   "source": [
    "df_gym = pd.read_csv('data/gym_members_exercise_tracking.csv')"
   ]
  },
  {
   "cell_type": "markdown",
   "metadata": {},
   "source": [
    "## Preprocessing\n",
    "\n",
    "- missing values\n",
    "- normalisation/scaling\n",
    "- outlier detection\n",
    "- "
   ]
  },
  {
   "cell_type": "markdown",
   "metadata": {},
   "source": [
    "### Gym Member Tracking Exercise"
   ]
  },
  {
   "cell_type": "markdown",
   "metadata": {},
   "source": [
    "### Abalone"
   ]
  },
  {
   "cell_type": "markdown",
   "metadata": {},
   "source": [
    "## Classification"
   ]
  },
  {
   "cell_type": "markdown",
   "metadata": {},
   "source": [
    "## Analysis of Performance"
   ]
  },
  {
   "cell_type": "markdown",
   "metadata": {},
   "source": [
    "## "
   ]
  }
 ],
 "metadata": {
  "kernelspec": {
   "display_name": "Python myenv",
   "language": "python",
   "name": "mein-venv-name"
  },
  "language_info": {
   "codemirror_mode": {
    "name": "ipython",
    "version": 3
   },
   "file_extension": ".py",
   "mimetype": "text/x-python",
   "name": "python",
   "nbconvert_exporter": "python",
   "pygments_lexer": "ipython3",
   "version": "3.12.5"
  }
 },
 "nbformat": 4,
 "nbformat_minor": 2
}
